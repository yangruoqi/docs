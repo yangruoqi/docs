{
 "cells": [
  {
   "cell_type": "markdown",
   "metadata": {},
   "source": [
    "# 运算重载\n",
    "\n",
    "[![下载Notebook](https://gitee.com/mindspore/docs/raw/tutorials-develop/resource/_static/logo_notebook.png)](https://obs.dualstack.cn-north-4.myhuaweicloud.com/mindspore-website/notebook/tutorials-develop/tutorials/zh_cn/operation/mindspore_op_overload.ipynb)&emsp;\n",
    "[![下载样例代码](https://gitee.com/mindspore/docs/raw/tutorials-develop/resource/_static/logo_download_code.png)](https://obs.dualstack.cn-north-4.myhuaweicloud.com/mindspore-website/notebook/tutorials-develop/tutorials/zh_cn/operation/mindspore_op_overload.py)&emsp;\n",
    "[![查看源文件](https://gitee.com/mindspore/docs/raw/tutorials-develop/resource/_static/logo_source.png)](https://gitee.com/mindspore/docs/blob/tutorials-develop/tutorials/experts/source_zh_cn/operation/op_overload.ipynb)\n",
    "\n",
    "`mindspore.ops.functional`模块提供了一些用户可能会用到操作，例如运算重载、取最大/小值、生成正态分布随机数、生成拉普拉斯分布随机数等，下面我们介绍运算重载的使用方式。\n",
    "\n",
    "> 更多接口相关信息请参考[API文档](https://mindspore.cn/docs/api/en/master/api_python/mindspore.ops.html#functional)。\n",
    "\n",
    "## 生成重载函数\n",
    "\n",
    "`MultitypeFuncGraph`用于生成重载函数，支持不同类型的输入。用户可以使用`MultitypeFuncGraph`自定义一组重载的函数，根据不同的输入类型来定义对应的处理逻辑，这一点与C++的重载类似。\n",
    "\n",
    "下面我们通过一段简单的示例代码来进行说明。代码样例如下："
   ]
  },
  {
   "cell_type": "code",
   "execution_count": 3,
   "metadata": {
    "ExecuteTime": {
     "end_time": "2021-12-31T08:28:36.365991Z",
     "start_time": "2021-12-31T08:28:34.387953Z"
    }
   },
   "outputs": [
    {
     "name": "stdout",
     "output_type": "stream",
     "text": [
      "scalar 3\n",
      "tensor [[2.4 4.2]\n",
      " [4.4 6.4]]\n"
     ]
    }
   ],
   "source": [
    "import numpy as np\n",
    "from mindspore.ops import MultitypeFuncGraph\n",
    "from mindspore import Tensor\n",
    "import mindspore.ops as ops\n",
    "\n",
    "# 初始化MultitypeFuncGraph对象，重载函数名称为：add\n",
    "add = MultitypeFuncGraph('add')\n",
    "\n",
    "# 使用带有输入类型的 `register` 作为待注册函数的装饰器\n",
    "@add.register(\"Number\", \"Number\")\n",
    "def add_scalar(x, y):\n",
    "    \"\"\"定义两个标量的加法\"\"\"\n",
    "    return ops.scalar_add(x, y)\n",
    "\n",
    "@add.register(\"Tensor\", \"Tensor\")\n",
    "def add_tensor(x, y):\n",
    "    \"\"\"定义两个张量的加法\"\"\"\n",
    "    return ops.tensor_add(x, y)\n",
    "\n",
    "tensor1 = Tensor(np.array([[1.2, 2.1], [2.2, 3.2]]).astype('float32'))\n",
    "tensor2 = Tensor(np.array([[1.2, 2.1], [2.2, 3.2]]).astype('float32'))\n",
    "\n",
    "print('scalar', add(1, 2))\n",
    "print('tensor', add(tensor1, tensor2))"
   ]
  },
  {
   "cell_type": "markdown",
   "metadata": {},
   "source": [
    "从上面的打印结果可以看出，经过对函数`add`重载后，其不仅可以完成两个`Number`类型的加法，而且还可以完成两个`Tensor`类型的加法。\n",
    "\n",
    "## 批量调用重载函数\n",
    "\n",
    "`HyperMap`可以对一组或多组输入做指定的运算，可以配合`MultitypeFuncGraph`一起使用。例如定义一组重载的`add`函数后，对多组不同类型的输入进行`add`运算。不同于`Map`，`HyperMap` 能够用于嵌套结构，对序列或嵌套序列中的输入做指定运算。\n",
    "\n",
    "下面我们通过一段样例代码来说明："
   ]
  },
  {
   "cell_type": "code",
   "execution_count": 5,
   "metadata": {
    "ExecuteTime": {
     "end_time": "2021-12-31T08:28:36.379981Z",
     "start_time": "2021-12-31T08:28:36.368396Z"
    }
   },
   "outputs": [
    {
     "name": "stdout",
     "output_type": "stream",
     "text": [
      "output: (Tensor(shape=[], dtype=Float32, value= 4), Tensor(shape=[], dtype=Float32, value= 6), 3)\n"
     ]
    }
   ],
   "source": [
    "from mindspore import dtype as mstype\n",
    "from mindspore import Tensor\n",
    "from mindspore.ops import MultitypeFuncGraph, HyperMap\n",
    "import mindspore.ops as ops\n",
    "\n",
    "# 初始化`MultitypeFuncGraph`对象，重载函数名称为：add\n",
    "add = MultitypeFuncGraph('add')\n",
    "\n",
    "# 使用带有输入类型的 `register` 作为待注册函数的装饰器\n",
    "@add.register(\"Number\", \"Number\")\n",
    "def add_scalar(x, y):\n",
    "    \"\"\"定义两个标量的加法\"\"\"\n",
    "    return ops.scalar_add(x, y)\n",
    "\n",
    "@add.register(\"Tensor\", \"Tensor\")\n",
    "def add_tensor(x, y):\n",
    "    \"\"\"定义两个张量的加法\"\"\"\n",
    "    return ops.tensor_add(x, y)\n",
    "\n",
    "# 定义HyperMap的操作：add\n",
    "add_map = HyperMap(add)\n",
    "\n",
    "# 定义“被加数”List\n",
    "x1 = Tensor(1, mstype.float32)\n",
    "x2 = Tensor(2, mstype.float32)\n",
    "x3 = 1\n",
    "x_list = [x1, x2, x3]\n",
    "\n",
    "# 定义“加数”List\n",
    "y1 = Tensor(3, mstype.float32)\n",
    "y2 = Tensor(4, mstype.float32)\n",
    "y3 = 2\n",
    "y_list = [y1, y2, y3]\n",
    "\n",
    "output = add_map(x_list, y_list)\n",
    "print(\"output:\", output)"
   ]
  },
  {
   "cell_type": "markdown",
   "metadata": {},
   "source": [
    "上面的代码中传入`add_map`的输入包含了两个序列：`x_list`和`y_list`。`HyperMap`会以`operation(args[0][i], args[1][i])`的形式，分别从两个序列中取相应的元素作为`add`函数的输入`x`和`y`并完成相应的运算，即：`x1` + `y1`、`x2` + `y2`和`x3` + `y3`。"
   ]
  }
 ],
 "metadata": {
  "kernelspec": {
   "display_name": "MindSpore",
   "language": "python",
   "name": "mindspore"
  },
  "language_info": {
   "codemirror_mode": {
    "name": "ipython",
    "version": 3
   },
   "file_extension": ".py",
   "mimetype": "text/x-python",
   "name": "python",
   "nbconvert_exporter": "python",
   "pygments_lexer": "ipython3",
   "version": "3.9.7"
  }
 },
 "nbformat": 4,
 "nbformat_minor": 4
}
