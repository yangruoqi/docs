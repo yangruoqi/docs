{
 "cells": [
  {
   "cell_type": "markdown",
   "source": [
    "# Customization Case:Simple Linear Function Fitting\n",
    "\n",
    "[![View Source On Gitee](https://gitee.com/mindspore/docs/raw/tutorials-develop/resource/_static/logo_source_en.png)](https://gitee.com/mindspore/docs/blob/tutorials-develop/tutorials/source_en/beginner/quick_start.ipynb)"
   ],
   "metadata": {}
  },
  {
   "cell_type": "markdown",
   "metadata": {},
   "source": [
    "MindSpore provides users with three different levels of API: high-level, intermediate-level, and low-level, and the details are described in the [Basic Introduction - Hierarchical Content section](https://www.mindspore.cn/tutorials/en/master/index.html).\n",
    "\n",
    "In order to facilitate the control of the network execution process, MindSpore provides a high-order training and inference interface `mindspore.Model`, which trains and infers the network by specifying the neural network model to be trained and common training settings, and calls the `train` and `eval` methods. At the same time, if you want to personalize a specific module, you can also call the corresponding low-level interface to define the training process of the network.\n",
    "\n",
    "This chapter will use the low-level and intermediate-level APIs provided by MindSpore to fit linear functions:\n",
    "\n",
    "$$f(x) = 2x + 3  \\tag {1}$$\n",
    "\n",
    "Before initializing the network, you need to configure the `context` parameters to control the policies executed by the program, such as configuring static graph or dynamic graph mode, configuring the hardware environment in which the network runs, and so on. This chapter will introduce configuration information and use low-level and medium-level APIs to customize loss functions, optimizers, training processes, Metrics, and custom validation process modules using low-level and intermediate-level APIs provided by MindSpore.\n",
    "\n",
    "## Configuration Information\n",
    "\n",
    "Before initializing the network, you need to configure the `context` parameter to control the policies executed by the program, such as configuring static graph or dynamic graph mode, configuring the hardware environment in which the network runs, and so on. Before initializing the network, you need to configure the `content` parameter to control the policy of program execution, and this section mainly describes execution mode management and hardware management.\n",
    "\n",
    "### Execution Mode\n",
    "\n",
    "MindSpore supports both Graph and PyNative modes of operation. The Graph mode is the default mode for MindSpore, while the PyNative mode is used for purposes such as debugging.\n",
    "\n",
    "- Graph mode (static graph mode): The neural network model is compiled into a whole graph and then sent to hardware for execution. This mode leverages techniques such as graph optimization to improve operational performance while facilitating scale deployments and cross-platform operations.\n",
    "\n",
    "- PyNative mode ((dynamic graph mode): The individual operators in the neural network are sent one by one to the hardware for execution. This mode is convenient for users to write code and debug the neural network model.)\n"
   ]
  },
  {
   "cell_type": "markdown",
   "metadata": {},
   "source": [
    "#### Mode Choice\n",
    "\n",
    "By configuring the context parameter, you can control the mode in which the program runs. The main differences between the Graph and PyNative modes are:\n",
    "\n",
    "- Usage scenario: The Graph mode needs to build the network structure first, and then the framework does the whole map optimization and execution, which is more suitable for scenarios where the network is fixed without changes, and high performance is required. The PyNative mode, on the other hand, executes operators line by line, supports the execution of single operators, ordinary functions and networks, and the operation of gradients alone.\n",
    "\n",
    "- Network execution: The Graph and PyNative modes have the same precision effect when performing the same network and operators. Since graph mode uses graph optimization, calculation graph sinking and other techniques, graph mode execution network performance and efficiency is higher.\n",
    "\n",
    "- Code debugging: In script development and network process debugging, it is recommended to use PyNative mode for debugging. In the PyNative mode, you can easily set breakpoints, obtain intermediate results of network execution, and debug the network by pdb. The Graph mode cannot set a breakpoint, only specify the operator to print, and then view the output after the network execution is completed."
   ]
  },
  {
   "cell_type": "markdown",
   "metadata": {},
   "source": [
    "When using the Graph mode, set the running mode in the context to `GRAPH_MODE`, you need to use `nn. Cell` class, and write execution code in the `construst` function, or call `@ms_function` decorator.\n",
    "\n",
    "#### Mode Switch\n",
    "\n",
    "MindSpore provides a unified encoding method for static and dynamic diagrams, which greatly increases the compatibility of static diagrams and dynamic diagrams, and the users do not need to develop multiple sets of code, and can switch static diagram/dynamic diagram mode with only one line of code. When switching modes, pay attention to the [constraints](https://www.mindspore.cn/docs/note/en/master/static_graph_syntax_support.html) of the target mode.\n",
    "\n",
    "> For example, the PyNative mode does not support data sinking, etc.\n",
    "\n",
    "Set the running mode to the dynamic graph mode:"
   ]
  },
  {
   "cell_type": "code",
   "execution_count": null,
   "metadata": {},
   "outputs": [],
   "source": [
    "from mindspore import context\n",
    "\n",
    "context.set_context(mode=context.PYNATIVE_MODE)"
   ]
  },
  {
   "cell_type": "markdown",
   "metadata": {},
   "source": [
    "When MindSpore is in the static graph mode, it can switch to dynamic graph mode by `context.set_context (mode=context. PYNATIVE_MODE)`; similarly, when MindSpore is in dynamic graph mode, it can switch to static graph mode by `context.set_context (mode=context. GRAPH_MODE)`."
   ]
  },
  {
   "cell_type": "code",
   "execution_count": null,
   "metadata": {},
   "outputs": [],
   "source": [
    "context.set_context(mode=context.GRAPH_MODE)"
   ]
  },
  {
   "cell_type": "markdown",
   "metadata": {},
   "source": [
    "### Hardware Management\n",
    "\n",
    "The hardware management part mainly includes two parameters: `device_target` and `device_id`.\n",
    "\n",
    "- `device_target`: the target device to be run supports `Ascend`, `GPU` and `CPU`, and can be set according to the actual environment conditions.\n",
    "\n",
    "- `device_id`: indicates the target device ID, whose value is in the range of [0, `device_num_per_host` - 1]. `device_num_per_host` represents the total number of devices of the server, and the value of the `device_num_per_host` cannot exceed 4096. `device_id` defaults to 0. In the case of non-distributed mode execution, in order to avoid the use of device conflicts, the device ID of the program execution can be determined by setting the `device_id`.\n",
    "\n",
    "The code examples are as follow:\n",
    "\n",
    "```Python\n",
    "from mindspore import context\n",
    "\n",
    "context.set_context(device_target=\"Ascend\", device_id=6)\n",
    "```"
   ]
  },
  {
   "cell_type": "markdown",
   "metadata": {},
   "source": [
    "## Generating the Dataset\n",
    "\n",
    "Define dataset generation functions `get_data` to generate a training dataset and a test dataset.\n",
    "\n",
    "Since the linear data is fitted, assuming that the objective function to be fitted is: $f(x)=2x+3$, the training dataset we need should be randomly distributed around the function, which is generated in the way $f(x)=2x+3+noise$. `noise` is a random value that follows the standard normal distribution law."
   ]
  },
  {
   "cell_type": "code",
   "execution_count": null,
   "metadata": {},
   "outputs": [],
   "source": [
    "import numpy as np\n",
    "\n",
    "def get_data(num, w=2.0, b=3.0):\n",
    "    for _ in range(num):\n",
    "        x = np.random.uniform(-10.0, 10.0)\n",
    "        noise = np.random.normal(0, 1)\n",
    "        y = x * w + b + noise\n",
    "        yield np.array([x]).astype(np.float32), np.array([y]).astype(np.float32)"
   ]
  },
  {
   "cell_type": "markdown",
   "source": [
    "Use `get_data` to generate 50 groups of test data and visualize them."
   ],
   "metadata": {}
  },
  {
   "cell_type": "code",
   "execution_count": 3,
   "source": [
    "import matplotlib.pyplot as plt\n",
    "\n",
    "train_data = list(get_data(50))\n",
    "x_target_label = np.array([-10, 10, 0.1])\n",
    "y_target_label = x_target_label * 2 + 3\n",
    "x_eval_label, y_eval_label = zip(*train_data)\n",
    "\n",
    "plt.scatter(x_eval_label, y_eval_label, color=\"red\", s=5)\n",
    "plt.plot(x_target_label, y_target_label, color=\"green\")\n",
    "plt.title(\"Eval data\")\n",
    "plt.show()"
   ],
   "outputs": [
    {
     "output_type": "display_data",
     "data": {
      "image/png": "[encoded data removed]",
      "text/plain": [
       "<Figure size 432x288 with 1 Axes>"
      ]
     },
     "metadata": {
      "needs_background": "light"
     }
    }
   ],
   "metadata": {
    "ExecuteTime": {
     "end_time": "2021-01-04T07:04:52.988318Z",
     "start_time": "2021-01-04T07:04:52.624363Z"
    }
   }
  },
  {
   "cell_type": "markdown",
   "source": [
    "In the preceding figure, the green line indicates the objective function, and the red points indicate the verification data `train_data`.\n",
    "\n",
    "## Loading the dataset\n",
    "\n",
    "Load the dataset and process the data.\n",
    "\n",
    "- `ds.GeneratorDataset`: converts the generated data into a MindSpore dataset and saves the x and y values of the generated data to arrays of `data` and `label`.\n",
    "- `batch`: combines `batch_size` pieces of data into a batch.\n",
    "- `repeat`: multiplies the number of datasets."
   ],
   "metadata": {}
  },
  {
   "cell_type": "code",
   "execution_count": 4,
   "source": [
    "from mindspore import dataset as ds\n",
    "\n",
    "def create_dataset(num_data, batch_size=16, repeat_size=1):\n",
    "    input_data = ds.GeneratorDataset(list(get_data(num_data)), column_names=['data', 'label'])\n",
    "    input_data = input_data.batch(batch_size, drop_remainder=True)\n",
    "    input_data = input_data.repeat(repeat_size)\n",
    "    return input_data"
   ],
   "outputs": [],
   "metadata": {
    "ExecuteTime": {
     "end_time": "2021-01-04T07:04:52.993381Z",
     "start_time": "2021-01-04T07:04:52.990360Z"
    }
   }
  },
  {
   "cell_type": "markdown",
   "source": [
    "Use the dataset argumentation function to generate training data and the resulting 1600 data is enhanced by defining `create_dataset` into 100 sets of 16x1 datasets."
   ],
   "metadata": {}
  },
  {
   "cell_type": "code",
   "execution_count": 5,
   "source": [
    "data_number = 1600\n",
    "batch_number = 16\n",
    "repeat_number = 1\n",
    "\n",
    "ds_train = create_dataset(data_number, batch_size=batch_number, repeat_size=repeat_number)\n",
    "print(\"The dataset size of ds_train:\", ds_train.get_dataset_size())\n",
    "step_size = ds_train.get_dataset_size()\n",
    "dict_datasets = next(ds_train.create_dict_iterator())\n",
    "\n",
    "print(dict_datasets.keys())\n",
    "print(\"The x label value shape:\", dict_datasets[\"data\"].shape)\n",
    "print(\"The y label value shape:\", dict_datasets[\"label\"].shape)"
   ],
   "outputs": [
    {
     "output_type": "stream",
     "name": "stdout",
     "text": [
      "The dataset size of ds_train: 100\n",
      "dict_keys(['data', 'label'])\n",
      "The x label value shape: (16, 1)\n",
      "The y label value shape: (16, 1)\n"
     ]
    }
   ],
   "metadata": {
    "ExecuteTime": {
     "end_time": "2021-01-04T07:04:53.079377Z",
     "start_time": "2021-01-04T07:04:52.994402Z"
    }
   }
  },
  {
   "cell_type": "markdown",
   "source": [
    "## Defining the Linear Neural Network Model\n",
    "\n",
    "The `mindspore.nn` class is the base class for building all networks and is also the basic unit of the network. When users need to customize the network, they can inherit `nn. Cell` class, and override the `init` method and the `construst` method. The `mindspore.ops` module provides an implementation of the base operator, and the `nn.Cell` module implements further encapsulation of the base operator, allowing users to flexibly use different operators as needed.\n",
    "\n",
    "The following example uses `nn. Cell` builds a simple fully connected network with sample snippet code for subsequent customizations.\n",
    "\n",
    "In MindSpore, use `nn.Dense` to generate single data input and the linear function model output by the single data:\n",
    "\n",
    "$$f(x)=wx+b\\tag{1}$$\n",
    "\n",
    "Use the Normal operator to randomly initialize the weights $w$ and $b$."
   ],
   "metadata": {}
  },
  {
   "cell_type": "code",
   "execution_count": 6,
   "source": [
    "from mindspore import nn\n",
    "from mindspore.common.initializer import Normal\n",
    "\n",
    "class LinearNet(nn.Cell):\n",
    "    def __init__(self):\n",
    "        super(LinearNet, self).__init__()\n",
    "        self.fc = nn.Dense(1, 1, Normal(0.02), Normal(0.02))\n",
    "\n",
    "    def construct(self, x):\n",
    "        x = self.fc(x)\n",
    "        return x"
   ],
   "outputs": [],
   "metadata": {
    "ExecuteTime": {
     "end_time": "2021-01-04T07:04:53.085026Z",
     "start_time": "2021-01-04T07:04:53.080390Z"
    }
   }
  },
  {
   "cell_type": "markdown",
   "source": [
    "After the network model is initialized, the initialized network function and the training dataset are visualized to understand the model functions before fitting."
   ],
   "metadata": {}
  },
  {
   "cell_type": "code",
   "execution_count": 7,
   "source": [
    "from mindspore import Tensor\n",
    "\n",
    "# Initialize the linear regression network\n",
    "net = LinearNet()\n",
    "# Get the network parameters w and b before training\n",
    "model_params = net.trainable_params()\n",
    "\n",
    "x_model_label = np.array([-10, 10, 0.1])\n",
    "y_model_label = (x_model_label * Tensor(model_params[0]).asnumpy()[0][0] +\n",
    "                 Tensor(model_params[1]).asnumpy()[0])\n",
    "\n",
    "plt.axis([-10, 10, -20, 25])\n",
    "plt.scatter(x_eval_label, y_eval_label, color=\"red\", s=5)\n",
    "plt.plot(x_model_label, y_model_label, color=\"blue\")\n",
    "plt.plot(x_target_label, y_target_label, color=\"green\")\n",
    "plt.show()"
   ],
   "outputs": [
    {
     "output_type": "stream",
     "name": "stdout",
     "text": [
      "Parameter (name=fc.weight, shape=(1, 1), dtype=Float32, requires_grad=True) [[-0.0052068]]\n",
      "Parameter (name=fc.bias, shape=(1,), dtype=Float32, requires_grad=True) [-0.02897885]\n"
     ]
    }
   ],
   "metadata": {
    "ExecuteTime": {
     "end_time": "2021-01-04T07:04:53.100773Z",
     "start_time": "2021-01-04T07:04:53.086027Z"
    },
    "scrolled": true
   }
  },
  {
   "cell_type": "markdown",
   "source": [
    "## Customizing the Loss Function\n",
    "\n",
    "The Loss Function is used to measure the degree to which the predicted value differs from the true value. In deep learning, model training is the process of narrowing the loss function value by constantly iterating, so the choice of the loss function during model training is very important, and defining a good loss function can help the loss function value converge faster and achieve better accuracy.\n",
    "\n",
    "[mindspore.nn](https://www.mindspore.cn/docs/api/en/master/api_python/mindspore.nn.html#id13) provides a number of common loss functions for users to choose from, and also allows users to customize loss functions as needed.\n",
    "\n",
    "When you customize the loss function class, you can inherit both the base class of the network `nn. Cell`, which can also inherit the base class of the loss function `nn. LossBase`. `nn. LossBase` provides `get_loss` method based on `nn.Cell` to sum or mean the loss values by using the `reduction` parameter to output a scalar. The mean absolute error loss function (MAE) will be defined by using the method of inheriting LosBase, and the formula of the MAE algorithm is as follows:\n",
    "\n",
    "$$loss= \\frac{1}{m}\\sum_{i=1}^m\\lvert y_i-f(x_i) \\rvert $$\n",
    "\n",
    "In the above equation, $f(x)$ is the predicted value, $y$ is the sample true value, and $loss$ is the average of the distance between the predicted value and the true value.\n",
    "\n",
    "When using the LossBase method to customize the loss function, you need to override the `__init__` method and the `construst` method, and use the `get_loss` method to calculate the loss. The sample code is as follows:"
   ],
   "metadata": {}
  },
  {
   "cell_type": "code",
   "execution_count": 9,
   "source": [
    "from mindspore import nn, ops\n",
    "\n",
    "class MyMAELoss(nn.LossBase):\n",
    "    \"\"\"Define Loss\"\"\"\n",
    "    def __init__(self, reduction=\"mean\"):\n",
    "        super(MyMAELoss, self).__init__(reduction)\n",
    "        self.abs = ops.Abs()\n",
    "\n",
    "    def construct(self, predict, target):\n",
    "        x = self.abs(predict - target)\n",
    "        return self.get_loss(x)"
   ],
   "outputs": [],
   "metadata": {
    "ExecuteTime": {
     "end_time": "2021-01-04T07:04:53.249228Z",
     "start_time": "2021-01-04T07:04:53.243109Z"
    }
   }
  },
  {
   "cell_type": "markdown",
   "source": [
    "## Customizing the Optimizer\n",
    "\n",
    "The optimizer is used to calculate and update network parameters during model training, and the appropriate optimizer can effectively reduce the training time and improve model performance.\n",
    "\n",
    "[mindspore.nn](https://www.mindspore.cn/docs/api/en/master/api_python/mindspore.nn.html#id14) provides a number of general-purpose optimizers for users to choose, while also allowing users to customize the optimizer as needed.\n",
    "\n",
    "When customizing the optimizer, you can inherit the optimizer base class `nn. Optimizer`, overrides `__init__` methods and `construct` methods implement updates to parameters.\n",
    "\n",
    "The following example implements the custom optimizer Momentum:\n",
    "\n",
    "$$ v_{t+1} = v_t×u+grad $$\n",
    "\n",
    "SGD algorithm with momentum:\n",
    "\n",
    "$$p_{t+1} = p_t - lr*v_{t+1}$$\n",
    "\n",
    "Using the SGD algorithm for Nesterov momentum:\n",
    "\n",
    "$$p_{t+1} = p_t-(grad+v_{t+1}*u)×lr $$\n",
    "\n",
    "where grad, lr, p, v, and u respectively represent gradients, learning rates, parameters, moments, and momentums."
   ],
   "metadata": {}
  },
  {
   "cell_type": "code",
   "execution_count": 10,
   "source": [
    "from mindspore import Tensor, Parameter\n",
    "from mindspore import nn, ops\n",
    "from mindspore import dtype as mstype\n",
    "\n",
    "class MyMomentum(nn.Optimizer):\n",
    "    \"\"\"Define the optimizer\"\"\"\n",
    "    def __init__(self, params, learning_rate, momentum=0.9, use_nesterov=False):\n",
    "        super(MyMomentum, self).__init__(learning_rate, params)\n",
    "        self.momentum = Parameter(Tensor(momentum, mstype.float32), name=\"momentum\")\n",
    "        self.use_nesterov = use_nesterov\n",
    "        self.moments = self.parameters.clone(prefix=\"moments\", init=\"zeros\")\n",
    "        self.assign = ops.Assign()\n",
    "\n",
    "    def construct(self, gradients):\n",
    "        \"\"\"The construct input is a gradient, which automatically passes in gradients during training\"\"\"\n",
    "        lr = self.get_lr()\n",
    "        # The weight parameter to be updated\n",
    "        params = self.parameters\n",
    "        for i in range(len(params)):\n",
    "            # Update moments value\n",
    "            self.assign(self.moments[i], self.moments[i] * self.momentum + gradients[i])\n",
    "            if self.use_nesterov:\n",
    "                # Using the SGD algorithm for Nesterov momentum:\n",
    "                update = params[i] - (self.moments[i] * self.momentum + gradients[i]) * lr\n",
    "            else:\n",
    "                # SGD algorithm with momentum\n",
    "                update = params[i] - self.moments[i] * lr\n",
    "            # Update the params value as update value\n",
    "            self.assign(params[i], update)\n",
    "        return params"
   ],
   "outputs": [],
   "metadata": {
    "ExecuteTime": {
     "end_time": "2021-01-04T07:04:53.273562Z",
     "start_time": "2021-01-04T07:04:53.250245Z"
    }
   }
  },
  {
   "cell_type": "markdown",
   "source": [
    "## Customizing the Training Process\n",
    "\n",
    "`mindspore. Model` provides the interface of `train` and `eval` to facilitate users to use during training, but this interface cannot be applied to all scenarios, such as multi-data and multi-label scenarios, where the users need to define their own training process. This section uses linear regression examples to briefly describe the custom training process. First define the loss network, connecting the forward network to the loss function, and then define the training process, which generally inherits `nn.TrainOneStepCell`. `nn.TrainOneStepCell` encapsulates the loss network and optimizer to implement a backpropagation network and to update the weight parameters.\n",
    "\n",
    "### Defining the Loss Function\n",
    "\n",
    "Define the loss network `MyWithLossCell`, which connects the forward network to the loss function."
   ],
   "metadata": {}
  },
  {
   "cell_type": "code",
   "execution_count": 11,
   "source": [
    "class MyWithLossCell(nn.Cell):\n",
    "    \"\"\"Define the loss function\"\"\"\n",
    "\n",
    "    def __init__(self, backbone, loss_fn):\n",
    "        \"\"\"The forward network and the loss function are passed in as parameters when instantiated\"\"\"\n",
    "        super(MyWithLossCell, self).__init__(auto_prefix=False)\n",
    "        self.backbone = backbone\n",
    "        self.loss_fn = loss_fn\n",
    "\n",
    "    def construct(self, data, label):\n",
    "        \"\"\"Connecting the forward network and the loss function\"\"\"\n",
    "        out = self.backbone(data)\n",
    "        return self.loss_fn(out, label)\n",
    "\n",
    "    def backbone_network(self):\n",
    "        \"\"\"The backbone network to be encapsulated\"\"\"\n",
    "        return self.backbone"
   ],
   "outputs": [],
   "metadata": {
    "ExecuteTime": {
     "end_time": "2021-01-04T07:04:53.287238Z",
     "start_time": "2021-01-04T07:04:53.275579Z"
    }
   }
  },
  {
   "cell_type": "markdown",
   "source": [
    "### Defining the Training Process\n",
    "\n",
    "Define the training process `MyTrainStep`, which inherits `nn.TrainOneStepCell`. `nn.TrainOneStepCell` encapsulates the loss network and optimizer, performs the acquisition of gradient by `ops.GradOperation` operator when performing training and updates the weights through the optimizer."
   ],
   "metadata": {}
  },
  {
   "cell_type": "code",
   "execution_count": 12,
   "source": [
    "class MyTrainStep(nn.TrainOneStepCell):\n",
    "    \"\"\"Define the training process\"\"\"\n",
    "\n",
    "    def __init__(self, network, optimizer):\n",
    "        \"\"\"Parameter initialization\"\"\"\n",
    "        super(MyTrainStep, self).__init__(network, optimizer)\n",
    "        self.grad = ops.GradOperation(get_by_list=True)\n",
    "\n",
    "    def construct(self, data, label):\n",
    "        \"\"\"Construct the training process\"\"\"\n",
    "        weights = self.weights\n",
    "        loss = self.network(data, label)\n",
    "        grads = self.grad(self.network, weights)(data, label)\n",
    "        return loss, self.optimizer(grads)"
   ],
   "outputs": [],
   "metadata": {
    "ExecuteTime": {
     "end_time": "2021-01-04T07:04:53.305631Z",
     "start_time": "2021-01-04T07:04:53.288251Z"
    }
   }
  },
  {
   "cell_type": "markdown",
   "source": [
    "### Defining the Drawing Function\n",
    "\n",
    "Define drawing function `plot_model_and_datasets` plot test data, the objective function, and the network model fitting function, and view the loss value."
   ],
   "metadata": {}
  },
  {
   "cell_type": "code",
   "execution_count": 13,
   "source": [
    "import matplotlib.pyplot as plt\n",
    "import time\n",
    "\n",
    "\n",
    "def plot_model_and_datasets(net, data, loss):\n",
    "    weight = net.trainable_params()[0]\n",
    "    bias = net.trainable_params()[1]\n",
    "    x = np.arange(-10, 10, 0.1)\n",
    "    y = x * Tensor(weight).asnumpy()[0][0] + Tensor(bias).asnumpy()[0]\n",
    "    x1, y1 = zip(*data)\n",
    "    x_target = x\n",
    "    y_target = x_target * 2 + 3\n",
    "\n",
    "    plt.axis([-11, 11, -20, 25])\n",
    "    # Raw data\n",
    "    plt.scatter(x1, y1, color=\"red\", s=5)\n",
    "    # Predicted data\n",
    "    plt.plot(x, y, color=\"blue\")\n",
    "    # Fitting function\n",
    "    plt.plot(x_target, y_target, color=\"green\")\n",
    "    # Print the loss value\n",
    "    plt.title(f\"Loss:{loss}\")\n",
    "\n",
    "    plt.show()\n",
    "    time.sleep(0.2)\n",
    "    display.clear_output(wait=True)"
   ],
   "outputs": [],
   "metadata": {
    "ExecuteTime": {
     "end_time": "2021-01-04T07:04:53.318392Z",
     "start_time": "2021-01-04T07:04:53.306647Z"
    }
   }
  },
  {
   "cell_type": "markdown",
   "source": [
    "### Executing the Training\n",
    "\n",
    "Use the training data `ds_train` train the training network `train_net` and visualize the training process."
   ],
   "metadata": {}
  },
  {
   "cell_type": "code",
   "execution_count": 14,
   "source": [
    "from IPython import display\n",
    "\n",
    "# Loss function\n",
    "loss_func = MyMAELoss()\n",
    "# Optimizer\n",
    "opt = MyMomentum(net.trainable_params(), 0.01)\n",
    "# Construct the loss network\n",
    "net_with_criterion = MyWithLossCell(net, loss_func)\n",
    "# Construct the training network\n",
    "train_net = MyTrainStep(net_with_criterion, opt)\n",
    "\n",
    "for data in ds_train.create_dict_iterator():\n",
    "    # Perform training and update the weights\n",
    "    train_net(data['data'], data['label'])\n",
    "    # Loss values\n",
    "    loss = net_with_criterion(data['data'], data['label'])\n",
    "    # Visualize the training process\n",
    "    plot_model_and_datasets(train_net, train_data, loss)"
   ],
   "outputs": [
    {
     "output_type": "display_data",
     "data": {
      "image/png": "[encoded data removed]",
      "text/plain": [
       "<Figure size 432x288 with 1 Axes>"
      ]
     },
     "metadata": {
      "needs_background": "light"
     }
    },
    {
     "output_type": "stream",
     "name": "stdout",
     "text": [
      "[Parameter (name=fc.weight, shape=(1, 1), dtype=Float32, requires_grad=True), Parameter (name=fc.bias, shape=(1,), dtype=Float32, requires_grad=True)]\n",
      "Parameter (name=fc.weight, shape=(1, 1), dtype=Float32, requires_grad=True) [[1.9679272]]\n",
      "Parameter (name=fc.bias, shape=(1,), dtype=Float32, requires_grad=True) [3.0316615]\n"
     ]
    }
   ],
   "metadata": {
    "ExecuteTime": {
     "end_time": "2021-01-04T07:05:27.693120Z",
     "start_time": "2021-01-04T07:04:53.319412Z"
    }
   }
  },
  {
   "cell_type": "markdown",
   "source": [
    "## Customizing evaluation metrics\n",
    "\n",
    "When the training task is over, it is often necessary to evaluate the metrics evaluation function to evaluate the quality of the model. The metrics are commonly evaluation index confusion matrix, Accuracy, Precision, Recall, etc.\n",
    "\n",
    "The [mindspore.nn](https://www.mindspore.cn/docs/api/en/master/api_python/mindspore.nn.html#id16) module provides common evaluation functions, and users can also define their own evaluation indicators as needed. Customizing Metrics functions need to inherit from the `nn.Metric` parent class and reimplement the `clear`, `update`, and `eval` methods in the parent class. The average absolute error (MAE) algorithm is shown in the following equation, and the following is an example of a simple MAE to introduce these three functions and how to use them.\n",
    "\n",
    "$$ MAE=\\frac{1}{n}\\sum_{i=1}^n\\lvert ypred_i - y_i \\rvert$$\n",
    "\n",
    "- `clear`: Initialize the relevant internal parameters.\n",
    "- `update`: Receive network prediction outputs and labels, calculate errors, and update internal evaluation results. Generally after each step is calculated, the statistical values are updated.\n",
    "- `eval`: Calculate the final assessment result, generally at the end of an epoch."
   ],
   "metadata": {
    "ExecuteTime": {
     "end_time": "2020-09-14T04:00:18.787349Z",
     "start_time": "2020-09-14T04:00:18.784236Z"
    }
   }
  },
  {
   "cell_type": "code",
   "execution_count": 15,
   "source": [
    "class MyMAE(nn.Metric):\n",
    "    \"\"\"Define metric\"\"\"\n",
    "\n",
    "    def __init__(self):\n",
    "        super(MyMAE, self).__init__()\n",
    "        self.clear()\n",
    "\n",
    "    def clear(self):\n",
    "        \"\"\"Initialize the variables abs_error_sum and samples_num\"\"\"\n",
    "        self.abs_error_sum = 0\n",
    "        self.samples_num = 0\n",
    "\n",
    "    def update(self, *inputs):\n",
    "        \"\"\"Update abs_error_sum and samples_num\"\"\"\n",
    "        if len(inputs) != 2:\n",
    "            raise ValueError('Mean absolute error need 2 inputs (y_pred, y), but got {}'.format(len(inputs)))\n",
    "        # Convert Tensor to NumPy for subsequent calculations\n",
    "        y_pred = inputs[0].asnumpy()\n",
    "        y = inputs[1].asnumpy()\n",
    "        # Calculates the absolute error between the predicted value and the true value\n",
    "        error_abs = np.abs(y.reshape(y_pred.shape) - y_pred)\n",
    "        self.abs_error_sum += error_abs.sum()\n",
    "        # The total number of the samples\n",
    "        self.samples_num += y.shape[0]\n",
    "\n",
    "    def eval(self):\n",
    "        \"\"\"Calculate the final assessment results\"\"\"\n",
    "        if self.samples_num == 0:\n",
    "            raise RuntimeError('Total samples num must not be 0.')\n",
    "        return self.abs_error_sum / self.samples_num"
   ],
   "outputs": [
    {
     "output_type": "stream",
     "name": "stdout",
     "text": [
      "fc.weight : [[1.9679272]]\n",
      "fc.bias : [3.0316615]\n"
     ]
    }
   ],
   "metadata": {
    "scrolled": false
   }
  },
  {
   "cell_type": "markdown",
   "metadata": {},
   "source": [
    "## Customizing the validation process\n",
    "\n",
    "The mindspore.nn module provides an evaluation network wrapper function [nn.WithEvalCell](https://www.mindspore.cn/docs/api/en/master/api_python/nn/mindspore.nn.WithEvalCell.html#mindspore.nn.WithEvalCell), because `nn.WithEvalCell` has only two input `data` and `label`, which is not suitable for multi-data or multi-label scenarios, so it is necessary to customize the evaluation network. For custom evaluation networks in multi-label scenarios, please refer to the [Custom Evaluation and Training section](https://www.mindspore.cn/tutorials/zh-CN/master/advance/train/train_eval.html#Customizingtheevaluationnetwork).\n",
    "\n",
    "The following example implements a simple customization evaluation network `MyWithEvalCell`, entering inputting data `data` and `label`:"
   ]
  },
  {
   "cell_type": "code",
   "execution_count": null,
   "metadata": {},
   "outputs": [],
   "source": [
    "class MyWithEvalCell(nn.Cell):\n",
    "    \"\"\"Define the validation process\"\"\"\n",
    "\n",
    "    def __init__(self, network):\n",
    "        super(MyWithEvalCell, self).__init__(auto_prefix=False)\n",
    "        self.network = network\n",
    "\n",
    "    def construct(self, data, label):\n",
    "        outputs = self.network(data)\n",
    "        return outputs, label"
   ]
  },
  {
   "cell_type": "markdown",
   "metadata": {},
   "source": [
    "Perform inference and evaluation:"
   ]
  },
  {
   "cell_type": "code",
   "execution_count": null,
   "metadata": {},
   "outputs": [],
   "source": [
    "data_number = 160\n",
    "batch_number = 16\n",
    "repeat_number = 1\n",
    "# Obtain the validation data\n",
    "ds_eval = create_dataset(data_number, batch_size=batch_number, repeat_size=repeat_number)\n",
    "# Define the evaluation network\n",
    "eval_net = MyWithEvalCell(net)\n",
    "eval_net.set_train(False)\n",
    "# Define the evaluation metrics\n",
    "mae = MyMAE()\n",
    "\n",
    "# Execute the inference process\n",
    "for data in ds_eval.create_dict_iterator():\n",
    "    output, eval_y = eval_net(data['data'], data['label'])\n",
    "    mae.update(output, eval_y)\n",
    "\n",
    "mae_result = mae.eval()\n",
    "print(\"MAE: \", mae_result)"
   ]
  },
  {
   "cell_type": "markdown",
   "metadata": {},
   "source": [
    "Output the evaluation error, and MAE and the model on the training set effect is about the same."
   ]
  },
  {
   "cell_type": "markdown",
   "metadata": {},
   "source": [
    "## Saving and Exporting the Model\n",
    "\n",
    "Save the above trained model parameters to the CheckPoint (ckpt) file, and then export the CheckPoint file as a MindIR format file for cross-platform inference."
   ]
  },
  {
   "cell_type": "code",
   "execution_count": null,
   "metadata": {},
   "outputs": [],
   "source": [
    "import numpy as np\n",
    "from mindspore import save_checkpoint, load_checkpoint, export\n",
    "\n",
    "# Save the model parameters in a ckpt file\n",
    "save_checkpoint(net, \"./linear.ckpt\")\n",
    "# Save the model parameters in the param_dict dictionary\n",
    "param_dict = load_checkpoint(\"./linear.ckpt\")\n",
    "# View the model parameters\n",
    "for param in param_dict:\n",
    "    print(param, \":\", param_dict[param].asnumpy())\n",
    "\n",
    "# Define a linear network\n",
    "net1 = LinearNet()\n",
    "input_np = np.random.uniform(0.0, 1.0, size=[1, 1]).astype(np.float32)\n",
    "export(net1, Tensor(input_np), file_name='linear', file_format='MINDIR')"
   ]
  }
 ],
 "metadata": {
  "kernelspec": {
   "display_name": "Python 3 (ipykernel)",
   "language": "python",
   "name": "python3"
  },
  "language_info": {
   "codemirror_mode": {
    "name": "ipython",
    "version": 3
   },
   "file_extension": ".py",
   "mimetype": "text/x-python",
   "name": "python",
   "nbconvert_exporter": "python",
   "pygments_lexer": "ipython3",
   "version": "3.9.0"
  }
 },
 "nbformat": 4,
 "nbformat_minor": 4
}