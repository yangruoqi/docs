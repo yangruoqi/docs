{
 "cells": [
  {
   "cell_type": "markdown",
   "source": [
    "# Tensor\n",
    "\n",
    "`Ascend` `GPU` `CPU` `Beginner`\n",
    "\n",
    "[Tensor](https://www.mindspore.cn/docs/api/en/master/api_python/mindspore/mindspore.Tensor.html) is a basic data structure in the MindSpore network computing. This chapter mainly introduces the properties and usage of tensors and sparse tensors.\n",
    "\n",
    "First, prepare the environment required to run this document. In this document, the mode is set to Graph mode, and the hardware is set to CPU. Users can configure it according to the actual environment."
   ],
   "metadata": {}
  },
  {
   "cell_type": "code",
   "execution_count": 1,
   "source": [
    "from mindspore import context\n",
    "\n",
    "context.set_context(mode=context.GRAPH_MODE, device_target=\"CPU\")"
   ],
   "outputs": [],
   "metadata": {}
  },
  {
   "cell_type": "markdown",
   "source": [
    "## Initializing a Tensor\n",
    "\n",
    "There are multiple methods for initializing tensors. When building a tensor, you can pass the Tensor with `float`, `int`, `bool`, `tuple`, `list`, and `NumPy.array` types.\n",
    "\n",
    "- **Generate a tensor based on data.**\n",
    "\n",
    "You can create a tensor based on data. The data type can be set or automatically inferred."
   ],
   "metadata": {}
  },
  {
   "cell_type": "code",
   "execution_count": 2,
   "source": [
    "from mindspore import Tensor\n",
    "\n",
    "x = Tensor(0.1)"
   ],
   "outputs": [],
   "metadata": {}
  },
  {
   "cell_type": "markdown",
   "source": [
    "- **Generate a tensor from the NumPy array.**\n",
    "\n",
    "You can create a tensor from the NumPy array."
   ],
   "metadata": {}
  },
  {
   "cell_type": "code",
   "execution_count": 3,
   "source": [
    "import numpy as np\n",
    "\n",
    "arr = np.array([1, 0, 1, 0])\n",
    "x_np = Tensor(arr)"
   ],
   "outputs": [],
   "metadata": {}
  },
  {
   "cell_type": "markdown",
   "source": [
    "If the initial value is `NumPy.array`, the generated `Tensor` data type corresponds to `NumPy.array`."
   ],
   "metadata": {}
  },
  {
   "cell_type": "markdown",
   "source": [
    "- **Generate a tensor from the init**\n",
    "\n",
    "You can create a tensor with the `init`, `shape` and `dtype`.\n",
    "\n",
    "- `init`: Supported subclasses of incoming Subclass of [initializer](https://www.mindspore.cn/docs/api/en/master/api_python/mindspore.common.initializer.html).\n",
    "- `shape`: Supported subclasses of incoming `list`, `tuple`, `int`.\n",
    "- `dtype`: Supported subclasses of incoming [mindspore.dtype](https://www.mindspore.cn/docs/api/en/master/api_python/mindspore.html#mindspore.dtype)."
   ],
   "metadata": {}
  },
  {
   "cell_type": "code",
   "execution_count": 4,
   "source": [
    "from mindspore import Tensor\n",
    "from mindspore import set_seed\n",
    "from mindspore import dtype as mstype\n",
    "from mindspore.common.initializer import One, Normal\n",
    "\n",
    "set_seed(1)\n",
    "\n",
    "tensor1 = Tensor(shape=(2, 2), dtype=mstype.float32, init=One())\n",
    "tensor2 = Tensor(shape=(2, 2), dtype=mstype.float32, init=Normal())\n",
    "print(tensor1)\n",
    "print(tensor2)"
   ],
   "outputs": [
    {
     "output_type": "stream",
     "name": "stdout",
     "text": [
      "[[1. 1.]\n",
      " [1. 1.]]\n",
      "[[-0.00128023 -0.01392901]\n",
      " [ 0.0130886  -0.00107818]]\n"
     ]
    }
   ],
   "metadata": {}
  },
  {
   "cell_type": "markdown",
   "source": [
    "The `init` is used for delayed initialization in parallel mode. Usually, it is not recommended to use `init` interface to initialize parameters in other conditions.\n",
    "\n",
    "- **Inherit attributes of another tensor to form a new tensor.**"
   ],
   "metadata": {}
  },
  {
   "cell_type": "code",
   "execution_count": 5,
   "source": [
    "from mindspore import ops\n",
    "\n",
    "oneslike = ops.OnesLike()\n",
    "x = Tensor(np.array([[0, 1], [2, 1]]).astype(np.int32))\n",
    "output = oneslike(x)\n",
    "print(output)"
   ],
   "outputs": [
    {
     "output_type": "stream",
     "name": "stdout",
     "text": [
      "[[1 1]\n",
      " [1 1]]\n"
     ]
    }
   ],
   "metadata": {}
  },
  {
   "cell_type": "markdown",
   "source": [
    "- **Output a constant tensor of a specified size.**\n",
    "\n",
    "`shape` is the size tuple of a tensor, which determines the dimension of the output tensor."
   ],
   "metadata": {}
  },
  {
   "cell_type": "code",
   "execution_count": 6,
   "source": [
    "shape = (2, 2)\n",
    "ones = ops.Ones()\n",
    "output = ones(shape, mstype.float32)\n",
    "print(output)\n",
    "\n",
    "zeros = ops.Zeros()\n",
    "output = zeros(shape, mstype.float32)\n",
    "print(output)"
   ],
   "outputs": [
    {
     "output_type": "stream",
     "name": "stdout",
     "text": [
      "[[1. 1.]\n",
      " [1. 1.]]\n",
      "[[0. 0.]\n",
      " [0. 0.]]\n"
     ]
    }
   ],
   "metadata": {}
  },
  {
   "cell_type": "markdown",
   "source": [
    "During `Tensor` initialization, dtype can be specified to, for example, `mstype.int32`, `mstype.float32` or `mstype.bool_`.\n",
    "\n",
    "## Tensor Attributes\n",
    "\n",
    "Tensor attributes include shape, data type, transposed tensor, item size, number of bytes occupied, dimension, size of elements, and stride per dimension.\n",
    "\n",
    "- shape: the shape of `Tensor`, it is a tuple.\n",
    "\n",
    "- dtype: the dtype of `Tensor`, it is a data type of MindSpore.\n",
    "\n",
    "- T: the Transpose of `Tensor`, it is also a `Tensor`.\n",
    "\n",
    "- itemsize: the number of bytes occupied by each element in `Tensor` is an integer.\n",
    "\n",
    "- nbytes: the total number of bytes occupied by `Tensor`, as an integer.\n",
    "\n",
    "- ndim: the rank of a `Tensor`, which is len(tensor.shape), is an integer.\n",
    "\n",
    "- size: the number of all elements in `Tensor`, it is an integer.\n",
    "\n",
    "- strides: the number of bytes to traverse in each dimension of `Tensor`."
   ],
   "metadata": {}
  },
  {
   "cell_type": "code",
   "execution_count": 7,
   "source": [
    "x = Tensor(np.array([[1, 2], [3, 4]]), mstype.int32)\n",
    "\n",
    "print(\"x_shape:\", x.shape)\n",
    "print(\"x_dtype:\", x.dtype)\n",
    "print(\"x_transposed:\\n\", x.T)\n",
    "print(\"x_itemsize:\", x.itemsize)\n",
    "print(\"x_nbytes:\", x.nbytes)\n",
    "print(\"x_ndim:\", x.ndim)\n",
    "print(\"x_size:\", x.size)\n",
    "print(\"x_strides:\", x.strides)"
   ],
   "outputs": [
    {
     "output_type": "stream",
     "name": "stdout",
     "text": [
      "x_shape: (2, 2)\n",
      "x_dtype: Int32\n",
      "x_transposed:\n",
      " [[1 3]\n",
      " [2 4]]\n",
      "x_itemsize: 4\n",
      "x_nbytes: 16\n",
      "x_ndim: 2\n",
      "x_size: 4\n",
      "x_strides: (8, 4)\n"
     ]
    }
   ],
   "metadata": {}
  },
  {
   "cell_type": "markdown",
   "source": [
    "## Index\n",
    "\n",
    "Tensor indexing is similar to Numpy indexing, indexing starts from 0, negative indexing means indexing in reverse order, and colons `:` and `...` are used for slicing."
   ],
   "metadata": {}
  },
  {
   "cell_type": "code",
   "execution_count": 8,
   "source": [
    "tensor = Tensor(np.array([[0, 1], [2, 3]]).astype(np.float32))\n",
    "print(\"First row: {}\".format(tensor[0]))\n",
    "print(\"value of top right corner: {}\".format(tensor[1, 1]))\n",
    "print(\"Last column: {}\".format(tensor[:, -1]))\n",
    "print(\"First column: {}\".format(tensor[..., 0]))"
   ],
   "outputs": [
    {
     "output_type": "stream",
     "name": "stdout",
     "text": [
      "First row: [0. 1.]\n",
      "value of top right corner: 3.0\n",
      "Last column: [1. 3.]\n",
      "First column: [0. 2.]\n"
     ]
    }
   ],
   "metadata": {}
  },
  {
   "cell_type": "markdown",
   "source": [
    "## Tensor Operation\n",
    "\n",
    "There are many operations between tensors, including arithmetic, linear algebra, matrix processing (transposing, indexing, and slicing), and sampling. The following describes several operations. The usage of tensor computation is similar to that of NumPy.\n",
    "\n",
    "Common arithmetic operations include: addition (+), subtraction (-), multiplication (\\*), division (/), modulo (%), power (\\*\\*), and exact division (//)."
   ],
   "metadata": {}
  },
  {
   "cell_type": "code",
   "execution_count": 9,
   "source": [
    "x = Tensor(np.array([1.0, 2.0, 3.0]), mstype.float32)\n",
    "y = Tensor(np.array([4.0, 5.0, 6.0]), mstype.float32)\n",
    "\n",
    "output_add = x + y\n",
    "output_sub = x - y\n",
    "output_mul = x * y\n",
    "output_div = y / x\n",
    "output_mod = x % y\n",
    "output_pow = x ** 2\n",
    "output_floordiv = y // x\n",
    "\n",
    "print(\"add:\", output_add)\n",
    "print(\"sub:\", output_sub)\n",
    "print(\"mul:\", output_mul)\n",
    "print(\"div:\", output_div)\n",
    "print(\"mod:\", output_mod)\n",
    "print(\"pow:\", output_pow)\n",
    "print(\"floordiv:\", output_floordiv)"
   ],
   "outputs": [
    {
     "output_type": "stream",
     "name": "stdout",
     "text": [
      "add: [5. 7. 9.]\n",
      "sub: [-3. -3. -3.]\n",
      "mul: [ 4. 10. 18.]\n",
      "div: [4.  2.5 2. ]\n",
      "mod: [1. 2. 3.]\n",
      "pow: [1. 4. 9.]\n",
      "floordiv: [4. 2. 2.]\n"
     ]
    }
   ],
   "metadata": {}
  },
  {
   "cell_type": "markdown",
   "source": [
    "`Concat` connects a series of tensors in a given dimension."
   ],
   "metadata": {}
  },
  {
   "cell_type": "code",
   "execution_count": 10,
   "source": [
    "data1 = Tensor(np.array([[0, 1], [2, 3]]).astype(np.float32))\n",
    "data2 = Tensor(np.array([[4, 5], [6, 7]]).astype(np.float32))\n",
    "op = ops.Concat()\n",
    "output = op((data1, data2))\n",
    "print(output)"
   ],
   "outputs": [
    {
     "output_type": "stream",
     "name": "stdout",
     "text": [
      "[[0. 1.]\n",
      " [2. 3.]\n",
      " [4. 5.]\n",
      " [6. 7.]]\n"
     ]
    }
   ],
   "metadata": {}
  },
  {
   "cell_type": "markdown",
   "source": [
    "`Stack` combines two tensors from another dimension."
   ],
   "metadata": {}
  },
  {
   "cell_type": "code",
   "execution_count": 11,
   "source": [
    "data1 = Tensor(np.array([[0, 1], [2, 3]]).astype(np.float32))\n",
    "data2 = Tensor(np.array([[4, 5], [6, 7]]).astype(np.float32))\n",
    "op = ops.Stack()\n",
    "output = op([data1, data2])\n",
    "print(output)"
   ],
   "outputs": [
    {
     "output_type": "stream",
     "name": "stdout",
     "text": [
      "[[[0. 1.]\n",
      "  [2. 3.]]\n",
      "\n",
      " [[4. 5.]\n",
      "  [6. 7.]]]\n"
     ]
    }
   ],
   "metadata": {}
  },
  {
   "cell_type": "markdown",
   "source": [
    "## Conversion Between Tensor and NumPy\n",
    "\n",
    "Tensor and NumPy can be converted to each other.\n",
    "\n",
    "### Tensor to NumPy\n",
    "\n",
    "Use `asnumpy()` to convert Tensor to NumPy."
   ],
   "metadata": {}
  },
  {
   "cell_type": "code",
   "execution_count": 12,
   "source": [
    "zeros = ops.Zeros()\n",
    "output = zeros((2, 2), mstype.float32)\n",
    "print(\"output: {}\".format(type(output)))\n",
    "n_output = output.asnumpy()\n",
    "print(\"n_output: {}\".format(type(n_output)))"
   ],
   "outputs": [
    {
     "output_type": "stream",
     "name": "stdout",
     "text": [
      "output: <class 'mindspore.common.tensor.Tensor'>\n",
      "n_output: <class 'numpy.ndarray'>\n"
     ]
    }
   ],
   "metadata": {}
  },
  {
   "cell_type": "markdown",
   "source": [
    "### NumPy to Tensor\n",
    "\n",
    "Use `asnumpy()` to convert NumPy to Tensor."
   ],
   "metadata": {}
  },
  {
   "cell_type": "code",
   "execution_count": 13,
   "source": [
    "output = np.array([1, 0, 1, 0])\n",
    "print(\"output: {}\".format(type(output)))\n",
    "t_output = Tensor(output)\n",
    "print(\"t_output: {}\".format(type(t_output)))"
   ],
   "outputs": [
    {
     "output_type": "stream",
     "name": "stdout",
     "text": [
      "output: <class 'numpy.ndarray'>\n",
      "t_output: <class 'mindspore.common.tensor.Tensor'>\n"
     ]
    }
   ],
   "metadata": {}
  },
  {
   "cell_type": "markdown",
   "source": [
    "## Sparse Tensor\n",
    "\n",
    "A sparse tensor is a special kind of tensor in which the number of elements with a value of 0 is much greater than the number of non-zero elements. In some application scenarios (such as recommendation systems), the features of the data are sparse, and using ordinary tensors to represent these data will introduce a lot of unnecessary computational, storage, and communication overhead. At such times, sparse tensors can be used to represent the data. MindSpore has two sparse tensor structures, `SparseTensor` and `RowTensor`.\n",
    "\n",
    "> Currently, sparse tensor is not supported in PyNative mode.\n",
    "\n",
    "### SparseTensor\n",
    "\n",
    "`SparseTensor` is used to compress Tensors with irregular distribution of non-zero elements. If the number of non-zero elements is `N` and the dimension of the compressed tensor is `ndims`, there are:\n",
    "\n",
    "- `indices`: two-dimensional integer tensor, each row represents a non-zero element index, shape: `[N, ndims]`.\n",
    "\n",
    "- `values`: one-dimensional tensor, representing the value of the corresponding non-zero element, shape: `[N]`.\n",
    "\n",
    "- `dense_shape`: represents the shape of the compressed sparse tensor.\n",
    "\n",
    "`SparseTensor` can only be used in the construction method of `Cell`, use `SparseTensor` to create the following sparse tensor, the tensor shape is (3, 4):\n",
    "\n",
    "![SparseTensor](https://gitee.com/mindspore/docs/raw/tutorials-develop/tutorials/source_en/beginner/images/tensor_1.PNG)\n"
   ],
   "metadata": {}
  },
  {
   "cell_type": "code",
   "execution_count": 14,
   "source": [
    "from mindspore import SparseTensor\n",
    "import mindspore.nn as nn\n",
    "\n",
    "class Net(nn.Cell):\n",
    "    def __init__(self, dense_shape):\n",
    "        super(Net, self).__init__()\n",
    "        self.dense_shape = dense_shape\n",
    "    def construct(self, indices, values):\n",
    "        x = SparseTensor(indices, values, self.dense_shape)\n",
    "        return x.values, x.indices, x.dense_shape\n",
    "\n",
    "indices = Tensor([[0, 1], [1, 2]])\n",
    "values = Tensor([1, 2], dtype=mstype.float32)\n",
    "out = Net((3, 4))(indices, values)\n",
    "print(\"non-zero values:\", out[0])\n",
    "print(\"non-zero indices:\\n\", out[1])\n",
    "print(\"shape:\", out[2])"
   ],
   "outputs": [
    {
     "output_type": "stream",
     "name": "stdout",
     "text": [
      "non-zero values: [1. 2.]\n",
      "non-zero indices:\n",
      " [[0 1]\n",
      " [1 2]]\n",
      "shape: (3, 4)\n"
     ]
    }
   ],
   "metadata": {}
  },
  {
   "cell_type": "markdown",
   "source": [
    "### RowTensor\n",
    "\n",
    "`RowTensor` is used to compress tensors that are sparse in the zeroth dimension. If the dimension of `RowTensor` is `[L0, D1, D2, ..., DN ]`. The number of non-zero elements in the zeroth dimension is `D0`, then `L0 >> D0`.\n",
    "\n",
    "- `indices`: one-dimensional integer tensor representing the position of non-zero elements in the zeroth dimension of the sparse tensor, shape: `[D0]`.\n",
    "\n",
    "- `values`: represents the value of the corresponding non-zero element, shape: `[D0, D1, D2, ..., DN]`.\n",
    "\n",
    "- `dense_shape`: represents the shape of the compressed sparse tensor.\n",
    "\n",
    "> `RowTensor` can only be used in the constructor of `Cell`."
   ],
   "metadata": {}
  },
  {
   "cell_type": "code",
   "execution_count": 15,
   "source": [
    "from mindspore import RowTensor\n",
    "import mindspore.nn as nn\n",
    "\n",
    "class Net(nn.Cell):\n",
    "    def __init__(self, dense_shape):\n",
    "        super(Net, self).__init__()\n",
    "        self.dense_shape = dense_shape\n",
    "    def construct(self, indices, values):\n",
    "        x = RowTensor(indices, values, self.dense_shape)\n",
    "        return x.values, x.indices, x.dense_shape\n",
    "\n",
    "indices = Tensor([0])\n",
    "values = Tensor([[1, 2]], dtype=mstype.float32)\n",
    "out = Net((3, 2))(indices, values)\n",
    "print(\"non-zero values:\", out[0])\n",
    "print(\"non-zero indices:\", out[1])\n",
    "print(\"shape:\", out[2])"
   ],
   "outputs": [
    {
     "output_type": "stream",
     "name": "stdout",
     "text": [
      "non-zero values: [[1. 2.]]\n",
      "non-zero indices: [0]\n",
      "shape: (3, 2)\n"
     ]
    }
   ],
   "metadata": {}
  }
 ],
 "metadata": {
  "kernelspec": {
   "display_name": "Python [conda env:mindspore_py39] *",
   "language": "python",
   "name": "conda-env-mindspore_py39-py"
  },
  "language_info": {
   "codemirror_mode": {
    "name": "ipython",
    "version": 3
   },
   "file_extension": ".py",
   "mimetype": "text/x-python",
   "name": "python",
   "nbconvert_exporter": "python",
   "pygments_lexer": "ipython3",
   "version": "3.9.0"
  }
 },
 "nbformat": 4,
 "nbformat_minor": 4
}