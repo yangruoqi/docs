{
 "cells": [
  {
   "cell_type": "markdown",
   "source": [
    "# Tensor\n",
    "\n",
    "`Ascend` `GPU` `CPU` `Beginner`\n",
    "\n",
    "[Tensor](https://www.mindspore.cn/docs/api/en/master/api_python/mindspore/mindspore.Tensor.html) is a basic data structure in the MindSpore network computing. This chapter mainly introduces the properties and usage of tensors and sparse tensors.\n",
    "\n",
    "First, prepare the environment required to run this document. In this document, the mode is set to Graph mode, and the hardware is set to CPU. Users can configure it according to the actual environment."
   ],
   "metadata": {}
  },
  {
   "cell_type": "code",
   "execution_count": 1,
   "source": [
    "from mindspore import context\n",
    "\n",
    "context.set_context(mode=context.GRAPH_MODE, device_target=\"CPU\")"
   ],
   "outputs": [],
   "metadata": {}
  },
  {
   "cell_type": "markdown",
   "source": [
    "## Initializing a Tensor\n",
    "\n",
    "There are multiple methods for initializing tensors. When building a tensor, you can pass the Tensor with `float`, `int`, `bool`, `tuple`, `list`, and `NumPy.array` types.\n",
    "\n",
    "- **Generate a tensor based on data.**\n",
    "\n",
    "You can create a tensor based on data. The data type can be set or automatically inferred."
   ],
   "metadata": {}
  },
  {
   "cell_type": "code",
   "execution_count": 2,
   "source": [
    "from mindspore import Tensor\n",
    "\n",
    "x = Tensor(0.1)"
   ],
   "outputs": [],
   "metadata": {}
  },
  {
   "cell_type": "markdown",
   "source": [
    "- **Generate a tensor from the NumPy array.**\n",
    "\n",
    "You can create a tensor from the NumPy array."
   ],
   "metadata": {}
  },
  {
   "cell_type": "code",
   "execution_count": 3,
   "source": [
    "import numpy as np\n",
    "\n",
    "arr = np.array([1, 0, 1, 0])\n",
    "x_np = Tensor(arr)"
   ],
   "outputs": [],
   "metadata": {}
  },
  {
   "cell_type": "markdown",
   "source": [
    "If the initial value is `NumPy.array`, the generated `Tensor` data type corresponds to `NumPy.array`."
   ],
   "metadata": {}
  },
  {
   "cell_type": "markdown",
   "source": [
    "- **Generate a tensor from the init**\n",
    "\n",
    "You can create a tensor with the `init`, `shape` and `dtype`.\n",
    "\n",
    "- `init`: Supported subclasses of incoming Subclass of [initializer](https://www.mindspore.cn/docs/api/en/master/api_python/mindspore.common.initializer.html).\n",
    "- `shape`: Supported subclasses of incoming `list`, `tuple`, `int`.\n",
    "- `dtype`: Supported subclasses of incoming [mindspore.dtype](https://www.mindspore.cn/docs/api/en/master/api_python/mindspore.html#mindspore.dtype)."
   ],
   "metadata": {}
  },
  {
   "cell_type": "code",
   "execution_count": 4,
   "source": [
    "from mindspore import Tensor\n",
    "from mindspore import set_seed\n",
    "from mindspore import dtype as mstype\n",
    "from mindspore.common.initializer import One, Normal\n",
    "\n",
    "set_seed(1)\n",
    "\n",
    "tensor1 = Tensor(shape=(2, 2), dtype=mstype.float32, init=One())\n",
    "tensor2 = Tensor(shape=(2, 2), dtype=mstype.float32, init=Normal())\n",
    "print(tensor1)\n",
    "print(tensor2)"
   ],
   "outputs": [
    {
     "output_type": "stream",
     "name": "stdout",
     "text": [
      "[[1. 1.]\n",
      " [1. 1.]]\n",
      "[[-0.00128023 -0.01392901]\n",
      " [ 0.0130886  -0.00107818]]\n"
     ]
    }
   ],
   "metadata": {}
  },
  {
   "cell_type": "markdown",
   "source": [
    "The `init` is used for delayed initialization in parallel mode. Usually, it is not recommended to use `init` interface to initialize parameters in other conditions.\n",
    "\n",
    "- **Inherit attributes of another tensor to form a new tensor.**"
   ],
   "metadata": {}
  },
  {
   "cell_type": "code",
   "execution_count": 5,
   "source": [
    "from mindspore import ops\n",
    "\n",
    "oneslike = ops.OnesLike()\n",
    "x = Tensor(np.array([[0, 1], [2, 1]]).astype(np.int32))\n",
    "output = oneslike(x)\n",
    "print(output)"
   ],
   "outputs": [
    {
     "output_type": "stream",
     "name": "stdout",
     "text": [
      "[[1 1]\n",
      " [1 1]]\n"
     ]
    }
   ],
   "metadata": {}
  },
  {
   "cell_type": "markdown",
   "source": [
    "- **Output a constant tensor of a specified size.**\n",
    "\n",
    "`shape` is the size tuple of a tensor, which determines the dimension of the output tensor."
   ],
   "metadata": {}
  },
  {
   "cell_type": "code",
   "execution_count": 6,
   "source": [
    "shape = (2, 2)\n",
    "ones = ops.Ones()\n",
    "output = ones(shape, mstype.float32)\n",
    "print(output)\n",
    "\n",
    "zeros = ops.Zeros()\n",
    "output = zeros(shape, mstype.float32)\n",
    "print(output)"
   ],
   "outputs": [
    {
     "output_type": "stream",
     "name": "stdout",
     "text": [
      "[[1. 1.]\n",
      " [1. 1.]]\n",
      "[[0. 0.]\n",
      " [0. 0.]]\n"
     ]
    }
   ],
   "metadata": {}
  },
  {
   "cell_type": "markdown",
   "source": [
    "During `Tensor` initialization, dtype can be specified to, for example, `mstype.int32`, `mstype.float32` or `mstype.bool_`.\n",
    "\n",
    "## Tensor Attributes\n",
    "\n",
    "Tensor attributes include shape, data type, transposed tensor, item size, number of bytes occupied, dimension, size of elements, and stride per dimension.\n",
    "\n",
    "- shape: the shape of `Tensor`, it is a tuple.\n",
    "\n",
    "- dtype: the dtype of `Tensor`, it is a data type of MindSpore.\n",
    "\n",
    "- T: the Transpose of `Tensor`, it is also a `Tensor`.\n",
    "\n",
    "- itemsize: the number of bytes occupied by each element in `Tensor` is an integer.\n",
    "\n",
    "- nbytes: the total number of bytes occupied by `Tensor`, as an integer.\n",
    "\n",
    "- ndim: the rank of a `Tensor`, which is len(tensor.shape), is an integer.\n",
    "\n",
    "- size: the number of all elements in `Tensor`, it is an integer.\n",
    "\n",
    "- strides: the number of bytes to traverse in each dimension of `Tensor`."
   ],
   "metadata": {}
  },
  {
   "cell_type": "code",
   "execution_count": 7,
   "source": [
    "x = Tensor(np.array([[1, 2], [3, 4]]), mstype.int32)\n",
    "\n",
    "print(\"x_shape:\", x.shape)\n",
    "print(\"x_dtype:\", x.dtype)\n",
    "print(\"x_transposed:\\n\", x.T)\n",
    "print(\"x_itemsize:\", x.itemsize)\n",
    "print(\"x_nbytes:\", x.nbytes)\n",
    "print(\"x_ndim:\", x.ndim)\n",
    "print(\"x_size:\", x.size)\n",
    "print(\"x_strides:\", x.strides)"
   ],
   "outputs": [
    {
     "output_type": "stream",
     "name": "stdout",
     "text": [
      "x_shape: (2, 2)\n",
      "x_dtype: Int32\n",
      "x_transposed:\n",
      " [[1 3]\n",
      " [2 4]]\n",
      "x_itemsize: 4\n",
      "x_nbytes: 16\n",
      "x_ndim: 2\n",
      "x_size: 4\n",
      "x_strides: (8, 4)\n"
     ]
    }
   ],
   "metadata": {}
  },
  {
   "cell_type": "markdown",
   "source": [
    "## Index\n",
    "\n",
    "Tensor indexing is similar to Numpy indexing, indexing starts from 0, negative indexing means indexing in reverse order, and colons `:` and `...` are used for slicing."
   ],
   "metadata": {}
  },
  {
   "cell_type": "code",
   "execution_count": 8,
   "source": [
    "tensor = Tensor(np.array([[0, 1], [2, 3]]).astype(np.float32))\n",
    "print(\"First row: {}\".format(tensor[0]))\n",
    "print(\"value of top right corner: {}\".format(tensor[1, 1]))\n",
    "print(\"Last column: {}\".format(tensor[:, -1]))\n",
    "print(\"First column: {}\".format(tensor[..., 0]))"
   ],
   "outputs": [
    {
     "output_type": "stream",
     "name": "stdout",
     "text": [
      "First row: [0. 1.]\n",
      "value of top right corner: 3.0\n",
      "Last column: [1. 3.]\n",
      "First column: [0. 2.]\n"
     ]
    }
   ],
   "metadata": {}
  },
  {
   "cell_type": "markdown",
   "source": [
    "## Tensor Operation\n",
    "\n",
    "There are many operations between tensors, including arithmetic, linear algebra, matrix processing (transposing, indexing, and slicing), and sampling. The following describes several operations. The usage of tensor computation is similar to that of NumPy.\n",
    "\n",
    "Common arithmetic operations include: addition (+), subtraction (-), multiplication (\\*), division (/), modulo (%), power (\\*\\*), and exact division (//)."
   ],
   "metadata": {}
  },
  {
   "cell_type": "code",
   "execution_count": 9,
   "source": [
    "x = Tensor(np.array([1.0, 2.0, 3.0]), mstype.float32)\n",
    "y = Tensor(np.array([4.0, 5.0, 6.0]), mstype.float32)\n",
    "\n",
    "output_add = x + y\n",
    "output_sub = x - y\n",
    "output_mul = x * y\n",
    "output_div = y / x\n",
    "output_mod = x % y\n",
    "output_pow = x ** 2\n",
    "output_floordiv = y // x\n",
    "\n",
    "print(\"add:\", output_add)\n",
    "print(\"sub:\", output_sub)\n",
    "print(\"mul:\", output_mul)\n",
    "print(\"div:\", output_div)\n",
    "print(\"mod:\", output_mod)\n",
    "print(\"pow:\", output_pow)\n",
    "print(\"floordiv:\", output_floordiv)"
   ],
   "outputs": [
    {
     "output_type": "stream",
     "name": "stdout",
     "text": [
      "add: [5. 7. 9.]\n",
      "sub: [-3. -3. -3.]\n",
      "mul: [ 4. 10. 18.]\n",
      "div: [4.  2.5 2. ]\n",
      "mod: [1. 2. 3.]\n",
      "pow: [1. 4. 9.]\n",
      "floordiv: [4. 2. 2.]\n"
     ]
    }
   ],
   "metadata": {}
  },
  {
   "cell_type": "markdown",
   "source": [
    "`Concat` connects a series of tensors in a given dimension."
   ],
   "metadata": {}
  },
  {
   "cell_type": "code",
   "execution_count": 10,
   "source": [
    "data1 = Tensor(np.array([[0, 1], [2, 3]]).astype(np.float32))\n",
    "data2 = Tensor(np.array([[4, 5], [6, 7]]).astype(np.float32))\n",
    "op = ops.Concat()\n",
    "output = op((data1, data2))\n",
    "print(output)"
   ],
   "outputs": [
    {
     "output_type": "stream",
     "name": "stdout",
     "text": [
      "[[0. 1.]\n",
      " [2. 3.]\n",
      " [4. 5.]\n",
      " [6. 7.]]\n"
     ]
    }
   ],
   "metadata": {}
  },
  {
   "cell_type": "markdown",
   "source": [
    "`Stack` combines two tensors from another dimension."
   ],
   "metadata": {}
  },
  {
   "cell_type": "code",
   "execution_count": 11,
   "source": [
    "data1 = Tensor(np.array([[0, 1], [2, 3]]).astype(np.float32))\n",
    "data2 = Tensor(np.array([[4, 5], [6, 7]]).astype(np.float32))\n",
    "op = ops.Stack()\n",
    "output = op([data1, data2])\n",
    "print(output)"
   ],
   "outputs": [
    {
     "output_type": "stream",
     "name": "stdout",
     "text": [
      "[[[0. 1.]\n",
      "  [2. 3.]]\n",
      "\n",
      " [[4. 5.]\n",
      "  [6. 7.]]]\n"
     ]
    }
   ],
   "metadata": {}
  },
  {
   "cell_type": "markdown",
   "source": [
    "## Conversion Between Tensor and NumPy\n",
    "\n",
    "Tensor and NumPy can be converted to each other.\n",
    "\n",
    "### Tensor to NumPy\n",
    "\n",
    "Use `asnumpy()` to convert Tensor to NumPy."
   ],
   "metadata": {}
  },
  {
   "cell_type": "code",
   "execution_count": 12,
   "source": [
    "zeros = ops.Zeros()\n",
    "output = zeros((2, 2), mstype.float32)\n",
    "print(\"output: {}\".format(type(output)))\n",
    "n_output = output.asnumpy()\n",
    "print(\"n_output: {}\".format(type(n_output)))"
   ],
   "outputs": [
    {
     "output_type": "stream",
     "name": "stdout",
     "text": [
      "output: <class 'mindspore.common.tensor.Tensor'>\n",
      "n_output: <class 'numpy.ndarray'>\n"
     ]
    }
   ],
   "metadata": {}
  },
  {
   "cell_type": "markdown",
   "source": [
    "### NumPy to Tensor\n",
    "\n",
    "Use `asnumpy()` to convert NumPy to Tensor."
   ],
   "metadata": {}
  },
  {
   "cell_type": "code",
   "execution_count": 13,
   "source": [
    "output = np.array([1, 0, 1, 0])\n",
    "print(\"output: {}\".format(type(output)))\n",
    "t_output = Tensor(output)\n",
    "print(\"t_output: {}\".format(type(t_output)))"
   ],
   "outputs": [
    {
     "output_type": "stream",
     "name": "stdout",
     "text": [
      "output: <class 'numpy.ndarray'>\n",
      "t_output: <class 'mindspore.common.tensor.Tensor'>\n"
     ]
    }
   ],
   "metadata": {}
  },
  {
   "cell_type": "markdown",
   "metadata": {},
   "source": [
    "## Sparse Tensor\n",
    "\n",
    "`SparseTensor` is a special kind of tensor which most of the elements are zero. In some scenario (e.g., Recommendation Systems, Molecular Dynamics, Graph Neural Networks), the data is sparse. If we use common dense tensors to represent the data, we may introduce many\n",
    "unnecessary calculations, storage and communication costs. In this situation, it is better to use sparse tensor to\n",
    "represent the data. Common sparse data formats includes `COO`, `CSR`, `CSC`, `DIA`, etc. Different sparse formats are better fit for different scenario. For now, MindSpore supports both `CSR` and `COO`.\n",
    "\n",
    "The common structure of sparse tensor is `<indices:Tensor, values:Tensor, shape:Tensor>`. `indices` means index of\n",
    "non-zero elements, `values` means the values of these non-zero elements and `dense_shape` means the dense shape of\n",
    "the sparse tensor. Using this structure, we define data structure `CSRTensor`, `COOTensor` and `RowTensor`.\n",
    "\n",
    "> Both `COOTensor` and `CSRTensor` support Graph Mode and PyNative Mode."
   ]
  },
  {
   "cell_type": "markdown",
   "metadata": {},
   "source": [
    "### CSRTensor\n",
    "\n",
    "`CSR`(Compressed Sparse Row) is efficient in both storage and computation. All the non-zeros values are stored in `values`, and their positions are stored in `indptr`(row position) and `indices` (column position).\n",
    "\n",
    "- `indptr`: 1-D Tensor of size shape[0] + 1, which indicates the start and end point for `values` in each row. Data type only supports `int32` for now.\n",
    "\n",
    "- `indices`: 1-D Tensor, which has the same length as `values`. `indices` indicates the which column values should be placed. Data type only supports `int32` for now.\n",
    "\n",
    "- `values`: 1-D Tensor, which has the same length as `indices`. `values` stores the data for CSRTensor.\n",
    "\n",
    "- `shape`: A tuple indicates the shape of the CSRTensor, its length must be 2, as only 2-D CSRTensor is currently supported, and shape[0] must equal to indptr[0] - 1, which all equal to number of rows of the CSRTensor.\n",
    "\n",
    "For more details, please see [mindspore.CSRTensor](https://www.mindspore.cn/docs/api/en/master/api_python/mindspore/mindspore.CSRTensor.html)."
   ]
  },
  {
   "cell_type": "code",
   "execution_count": 14,
   "metadata": {},
   "outputs": [
    {
     "name": "stdout",
     "output_type": "stream",
     "text": [
      "Float64\n"
     ]
    }
   ],
   "source": [
    "# constructs CSRTensor\n",
    "import mindspore as ms\n",
    "from mindspore import Tensor, CSRTensor\n",
    "\n",
    "indptr = Tensor([0, 1, 2], dtype=mstype.int32)\n",
    "indices = Tensor([0, 1], dtype=mstype.int32)\n",
    "values = Tensor([1, 2], dtype=ms.float32)\n",
    "shape = (2, 4)\n",
    "csr_tensor = CSRTensor(indptr, indices, values, shape)\n",
    "\n",
    "print(csr_tensor.astype(ms.float64).dtype)"
   ]
  },
  {
   "cell_type": "markdown",
   "metadata": {},
   "source": [
    "### COOTensor\n",
    "\n",
    "`COO`(Coordinate Format) represents a set of nonzero elememts from a tensor at given indices. If the number of non-zero elements\n",
    "is `N` and the dense shape of the sparse tensor is `ndims`：\n",
    "\n",
    "- `indices`: A 2-D integer Tensor of shape `[N, ndims]`. Each line represents the index of non-zero elements. Data type only supports `int32` for now.\n",
    "- `values`: A 1-D tensor of any type and shape `[N]`. Represents the value of non-zero elements.\n",
    "- `shape`: A integer tuple of size `ndims`, which specifies the dense shape of the sparse tensor, Currently only supports 2-D `COOTensor`.\n",
    "\n",
    "For more details, please see [mindspore.COOTensor](https://www.mindspore.cn/docs/api/en/master/api_python/mindspore/mindspore.COOTensor.html).\n",
    "\n",
    "Some code examples are given below:"
   ]
  },
  {
   "cell_type": "code",
   "execution_count": 16,
   "metadata": {},
   "outputs": [
    {
     "name": "stdout",
     "output_type": "stream",
     "text": [
      "[1. 2.]\n",
      "[[0 1]\n",
      " [1 2]]\n",
      "(3, 4)\n",
      "Float64\n"
     ]
    }
   ],
   "source": [
    "# Constructs COOTensor\n",
    "import mindspore as ms\n",
    "import mindspore.nn as nn\n",
    "from mindspore import Tensor, COOTensor\n",
    "\n",
    "indices = Tensor([[0, 1], [1, 2]])\n",
    "values = Tensor([1, 2], dtype=ms.float32)\n",
    "shape = (3, 4)\n",
    "coo_tensor = COOTensor(indices, values, shape)\n",
    "\n",
    "print(coo_tensor.values)\n",
    "print(coo_tensor.indices)\n",
    "print(coo_tensor.shape)\n",
    "# COOTensor cast to another data type\n",
    "print(coo_tensor.astype(ms.float64).dtype)"
   ]
  },
  {
   "cell_type": "markdown",
   "metadata": {},
   "source": [
    "The codes above produce a `COOTensor`:\n",
    "\n",
    "![COOTensor](https://gitee.com/mindspore/docs/raw/tutorials-develop/tutorials/source_en/beginner/images/tensor_1.PNG)"
   ]
  },
  {
   "cell_type": "markdown",
   "metadata": {},
   "source": [
    "### RowTensor\n",
    "\n",
    "`RowTensor` is used to compress tensors that are sparse in the zeroth dimension. If the dimension of `RowTensor` is `[L0, D1, D2, ..., DN ]`. The number of non-zero elements in the zeroth dimension is `D0`, then `L0 >> D0`.\n",
    "\n",
    "- `indices`: one-dimensional integer tensor representing the position of non-zero elements in the zeroth dimension of the sparse tensor, shape: `[D0]`.\n",
    "\n",
    "- `values`: represents the value of the corresponding non-zero element, shape: `[D0, D1, D2, ..., DN]`.\n",
    "\n",
    "- `dense_shape`: represents the shape of the compressed sparse tensor.\n",
    "\n",
    "> `RowTensor` can only be used in the constructor of `Cell`."
   ]
  },
  {
   "cell_type": "code",
   "execution_count": 18,
   "metadata": {},
   "outputs": [
    {
     "name": "stdout",
     "output_type": "stream",
     "text": [
      "non-zero values: [[1. 2.]]\n",
      "non-zero indices: [0]\n",
      "shape: (3, 2)\n"
     ]
    }
   ],
   "source": [
    "from mindspore import RowTensor, Tensor\n",
    "from mindspore.common import dtype as mstype\n",
    "import mindspore.nn as nn\n",
    "\n",
    "class Net(nn.Cell):\n",
    "    def __init__(self, dense_shape):\n",
    "        super(Net, self).__init__()\n",
    "        self.dense_shape = dense_shape\n",
    "    def construct(self, indices, values):\n",
    "        x = RowTensor(indices, values, self.dense_shape)\n",
    "        return x.values, x.indices, x.dense_shape\n",
    "\n",
    "indices = Tensor([0])\n",
    "values = Tensor([[1, 2]], dtype=mstype.float32)\n",
    "out = Net((3, 2))(indices, values)\n",
    "print(\"non-zero values:\", out[0])\n",
    "print(\"non-zero indices:\", out[1])\n",
    "print(\"shape:\", out[2])"
   ]
  }
 ],
 "metadata": {
  "kernelspec": {
   "display_name": "Python [conda env:mindspore_py39] *",
   "language": "python",
   "name": "conda-env-mindspore_py39-py"
  },
  "language_info": {
   "codemirror_mode": {
    "name": "ipython",
    "version": 3
   },
   "file_extension": ".py",
   "mimetype": "text/x-python",
   "name": "python",
   "nbconvert_exporter": "python",
   "pygments_lexer": "ipython3",
   "version": "3.9.0"
  }
 },
 "nbformat": 4,
 "nbformat_minor": 4
}