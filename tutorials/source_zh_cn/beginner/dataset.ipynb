{
 "cells": [
  {
   "cell_type": "markdown",
   "metadata": {},
   "source": [
    "# 数据加载及处理\n",
    "\n",
    "`Ascend` `GPU` `CPU` `入门` `数据准备`\n",
    "\n",
    "[![在线运行](https://gitee.com/mindspore/docs/raw/master/resource/_static/logo_modelarts.png)](https://authoring-modelarts-cnnorth4.huaweicloud.com/console/lab?share-url-b64=aHR0cHM6Ly9taW5kc3BvcmUtd2Vic2l0ZS5vYnMuY24tbm9ydGgtNC5teWh1YXdlaWNsb3VkLmNvbS9ub3RlYm9vay9tb2RlbGFydHMvcXVpY2tfc3RhcnQvbWluZHNwb3JlX2RhdGFzZXQuaXB5bmI=&imageid=65f636a0-56cf-49df-b941-7d2a07ba8c8c)&emsp;[![下载Notebook](https://gitee.com/mindspore/docs/raw/master/resource/_static/logo_notebook.png)](https://mindspore-website.obs.cn-north-4.myhuaweicloud.com/notebook/master/tutorials/zh_cn/mindspore_dataset.ipynb)&emsp;[![下载样例代码](https://gitee.com/mindspore/docs/raw/master/resource/_static/logo_download_code.png)](https://mindspore-website.obs.cn-north-4.myhuaweicloud.com/notebook/master/tutorials/zh_cn/mindspore_dataset.py)&emsp;[![查看源文件](https://gitee.com/mindspore/docs/raw/master/resource/_static/logo_source.png)](https://gitee.com/mindspore/docs/blob/master/tutorials/source_zh_cn/beginner/dataset.ipynb)\n",
    "\n",
    "数据集类为用户提供了常用的数据处理接口，使得用户能够快速进行数据处理操作。[mindspore.dataset](https://www.mindspore.cn/docs/api/zh-CN/master/api_python/mindspore.dataset.html)提供了部分常用数据集和标准格式数据集的加载接口，对于图像数据集，用户可使用[MindVision](https://gitee.com/mindspore/vision)来加载数据集。MindVision是在`mindspore.dataset`的基础上开发的接口，除提供数据集加载功能外，MindVision还提供数据集下载功能、数据处理和数据增强功能。本章首先介绍如何使用`mindvision.classification.dataset.Cifar10`接口加载并处理CIFAR-10数据集，然后介绍如何使用`mindspore.dataset.GeneratorDataset`实现自定义数据集加载。\n",
    "\n",
    "## 加载数据集\n",
    "\n",
    "下面的样例通过`mindvision.classification.dataset.Cifar10`接口加载CIFAR-10数据集，CIFAR-10数据集共有60000张32*32的彩色图像，分为10个类别，每类有6000张图，数据集中一共有50000张训练图片和10000张测试图片。`Cifar10`接口提供CIFAR-10数据集下载及加载功能。\n",
    "\n",
    "+ `path`：数据集根目录位置。\n",
    "+ `split`：训练、测试或推理数据集，可选`train`，`test`或 `infer`，默认为`train`。\n",
    "+ `download`：是否下载数据集，设置`True`时，若数据集不存在可下载并解压数据集，默认为`False`。\n"
   ]
  },
  {
   "cell_type": "code",
   "execution_count": 22,
   "metadata": {},
   "outputs": [],
   "source": [
    "from mindvision.classification.dataset import Cifar10\n",
    "\n",
    "# 数据集根目录\n",
    "data_dir = \"./datasets\"\n",
    "# 下载解压并加载CIFAR-10训练数据集\n",
    "dataset = Cifar10(path=data_dir, split='train', download=True)\n",
    "dataset = dataset.run()"
   ]
  },
  {
   "cell_type": "markdown",
   "metadata": {},
   "source": [
    "CIFAR-10数据集文件的目录结构如下：\n",
    "\n",
    "```text\n",
    "datasets/\n",
    "├── cifar-10-batches-py\n",
    "│   ├── batches.meta\n",
    "│   ├── data_batch_1\n",
    "│   ├── data_batch_2\n",
    "│   ├── data_batch_3\n",
    "│   ├── data_batch_4\n",
    "│   ├── data_batch_5\n",
    "│   ├── readme.html\n",
    "│   └── test_batch\n",
    "└── cifar-10-python.tar.gz\n",
    "```"
   ]
  },
  {
   "cell_type": "markdown",
   "metadata": {},
   "source": [
    "## 迭代数据集\n",
    "\n",
    "用户可以用`create_dict_iterator`接口创建数据迭代器，迭代访问数据。访问的数据类型默认为`Tensor`；若设置`output_numpy=True`，访问的数据类型为`Numpy`。下面展示了对应访问的数据类型、图片的形状和标签。"
   ]
  },
  {
   "cell_type": "code",
   "execution_count": 23,
   "metadata": {},
   "outputs": [
    {
     "name": "stdout",
     "output_type": "stream",
     "text": [
      "Data type:<class 'mindspore.common.tensor.Tensor'>\n",
      "Image shape: (32, 3, 224, 224), Label: [6 8 5 5 3 2 6 6 1 5 1 7 1 8 6 1 6 1 0 6 7 3 2 2 8 2 4 5 7 3 3 9]\n",
      "Data type:<class 'numpy.ndarray'>\n",
      "Image shape: (32, 3, 224, 224), Label: [3 8 7 3 9 8 3 0 1 0 5 2 1 5 7 9 3 3 1 1 2 0 1 0 9 1 8 2 3 2 6 7]\n"
     ]
    }
   ],
   "source": [
    "data = next(dataset.create_dict_iterator())\n",
    "print(f\"Data type:{type(data['image'])}\\nImage shape: {data['image'].shape}, Label: {data['label']}\")\n",
    "\n",
    "data = next(dataset.create_dict_iterator(output_numpy=True))\n",
    "print(f\"Data type:{type(data['image'])}\\nImage shape: {data['image'].shape}, Label: {data['label']}\")"
   ]
  },
  {
   "cell_type": "markdown",
   "metadata": {},
   "source": [
    "## 数据处理及增强\n",
    "\n",
    "### 数据处理\n",
    "\n",
    "`mindvision.classification.dataset.Cifar10`接口提供数据处理功能，只要设置相应的属性即可对数据进行处理操作。\n",
    "\n",
    "+ `shuffle`：是否打乱数据集的顺序，设置为`True`时打乱数据集的顺序，默认为`False`。\n",
    "\n",
    "+ `batch_size`：每组包含的数据个数，`batch_size=2`设置每组包含2个数据， `batch_size`值默认大小为32。\n",
    "\n",
    "+ `repeat_num`：重复数据集的个数，`repeat_num=1`即一份数据集，`repeat_num`值默认为1 。\n",
    "\n",
    "下面的样例实现将数据集随机打乱顺序并将样本两两组成一个批次的功能。"
   ]
  },
  {
   "cell_type": "code",
   "execution_count": 4,
   "metadata": {},
   "outputs": [
    {
     "name": "stdout",
     "output_type": "stream",
     "text": [
      "Image shape: (2, 3, 224, 224) , Label: [5 0]\n"
     ]
    }
   ],
   "source": [
    "dataset = Cifar10(data_dir, batch_size=2, shuffle=True, repeat_num=1)\n",
    "data = dataset.run()\n",
    "data = next(data.create_dict_iterator())\n",
    "print(f\"Image shape: {data['image'].shape}, Label: {data['label']}\")"
   ]
  },
  {
   "cell_type": "markdown",
   "metadata": {},
   "source": [
    "### 数据增强\n",
    "\n",
    "数据量过小或是样本场景单一等问题会影响模型的训练效果，用户可以通过数据增强操作扩充样本多样性，从而提升模型的泛化能力。\n",
    "`mindvision.classification.dataset.Cifar10`接口使用默认的数据增强功能，用户可通过设置属性`transform`和`target_transform`进行数据增强操作。\n",
    "\n",
    "+ `transform`：对数据集图像数据进行增强。\n",
    "+ `target_transform`：对数据集标签数据进行处理。\n",
    "\n",
    "本节介绍使用`mindspore.dataset.vision.c_transforms`模块中的算子对CIFAR-10数据集进行数据增强。"
   ]
  },
  {
   "cell_type": "code",
   "execution_count": 20,
   "metadata": {},
   "outputs": [
    {
     "data": {
      "image/png": "[encoded data removed]",
      "text/plain": [
       "<Figure size 432x288 with 1 Axes>"
      ]
     },
     "metadata": {
      "needs_background": "light"
     },
     "output_type": "display_data"
    }
   ],
   "source": [
    "import numpy as np\n",
    "import matplotlib.pyplot as plt\n",
    "import mindspore.dataset.vision.c_transforms as transforms\n",
    "\n",
    "# 图像增强\n",
    "trans = [\n",
    "    # 对图像进行随机水平翻转\n",
    "    transforms.RandomHorizontalFlip(prob=0.5),\n",
    "    # (h, w, c)转换为(c, h, w)\n",
    "    transforms.HWC2CHW()\n",
    "]\n",
    "dataset = Cifar10(data_dir, transform=trans)\n",
    "data_trans = dataset.run()\n",
    "data_trans = next(data_trans.create_dict_iterator(output_numpy=True))\n",
    "image_trans = data_trans[\"image\"][0]\n",
    "\n",
    "# 绘制图像增强图\n",
    "image_trans = np.transpose(image_trans, (1, 2, 0))\n",
    "plt.imshow(image_trans)\n",
    "index = data_trans['label'][0]\n",
    "plt.title(f\"Transform image:{dataset.index2label[index]}\")\n",
    "plt.axis(\"off\")\n",
    "plt.show()"
   ]
  },
  {
   "cell_type": "markdown",
   "metadata": {},
   "source": [
    "## 自定义数据集\n",
    "\n",
    "对于MindSpore暂不支持直接加载的数据集，可以构造自定义数据集类，然后通过`mindspore.dataset.GeneratorDataset`接口实现自定义方式的数据加载。其中用户需要自定义的类函数如下：\n",
    "\n",
    "+ `__init__`：定义数据初始化等操作，在实例化数据集对象时被调用。\n",
    "\n",
    "+ `__getitem__`：定义该函数后可使其支持随机访问，能够根据给定的索引值`index`，获取数据集中的数据并返回。数据返回值类型是由NumPy数组组成   的Tuple。\n",
    "+ `__len__`：返回数据集的样本数量。\n",
    "\n",
    "示例如下，定义数据集类`DatasetGenerator`之后，就可以通过`GeneratorDataset`接口按照用户定义的方式加载并访问数据集样本。"
   ]
  },
  {
   "cell_type": "code",
   "execution_count": 2,
   "metadata": {},
   "outputs": [
    {
     "name": "stdout",
     "output_type": "stream",
     "text": [
      "data: [0.36510558 0.45120592], label:[0.78888122]\n",
      "data: [0.49606035 0.07562207], label:[0.38068183]\n",
      "data: [0.57176158 0.28963401], label:[0.16271622]\n",
      "data: [0.30880446 0.37487617], label:[0.54738768]\n",
      "data: [0.81585667 0.96883469], label:[0.77994068]\n"
     ]
    }
   ],
   "source": [
    "import numpy as np\n",
    "import mindspore.dataset as ds\n",
    "\n",
    "np.random.seed(58)\n",
    "\n",
    "class DatasetGenerator:\n",
    "    '''自定义数据集'''\n",
    "    def __init__(self):\n",
    "        self.data = np.random.sample((5, 2))\n",
    "        self.label = np.random.sample((5, 1))\n",
    "\n",
    "    def __getitem__(self, index):\n",
    "        return self.data[index], self.label[index]\n",
    "\n",
    "    def __len__(self):\n",
    "        return len(self.data)\n",
    "\n",
    "dataset_generator = DatasetGenerator()\n",
    "# 加载数据集\n",
    "dataset = ds.GeneratorDataset(dataset_generator, [\"data\", \"label\"], shuffle=False)\n",
    "# 迭代访问数据集\n",
    "for data in dataset.create_dict_iterator():\n",
    "    print(f\"data: {data['data']}, label:{data['label']}\")"
   ]
  }
 ],
 "metadata": {
  "kernelspec": {
   "display_name": "Python 3 (ipykernel)",
   "language": "python",
   "name": "python3"
  },
  "language_info": {
   "codemirror_mode": {
    "name": "ipython",
    "version": 3
   },
   "file_extension": ".py",
   "mimetype": "text/x-python",
   "name": "python",
   "nbconvert_exporter": "python",
   "pygments_lexer": "ipython3",
   "version": "3.9.0"
  }
 },
 "nbformat": 4,
 "nbformat_minor": 4
}
