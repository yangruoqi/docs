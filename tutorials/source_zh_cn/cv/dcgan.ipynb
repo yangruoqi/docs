{
 "cells": [
  {
   "cell_type": "markdown",
   "metadata": {},
   "source": [
    "# 对抗生成网络\n",
    "\n",
    "[![下载Notebook](https://gitee.com/mindspore/docs/raw/tutorials-develop/resource/_static/logo_notebook.png)](https://obs.dualstack.cn-north-4.myhuaweicloud.com/mindspore-website/notebook/tutorials-develop/tutorials/zh_cn/mindspore_dcgan.ipynb)&emsp;[![下载样例代码](https://gitee.com/mindspore/docs/raw/tutorials-develop/resource/_static/logo_download_code.png)](https://obs.dualstack.cn-north-4.myhuaweicloud.com/mindspore-website/notebook/tutorials-develop/tutorials/zh_cn/mindspore_dcgan.py)&emsp;[![查看源文件](https://gitee.com/mindspore/docs/raw/tutorials-develop/resource/_static/logo_source.png)](https://gitee.com/mindspore/docs/blob/tutorials-develop/tutorials/source_zh_cn/cv/dcgan.ipynb)"
   ]
  },
  {
   "cell_type": "markdown",
   "metadata": {},
   "source": [
    "## GAN基础原理\n",
    "\n",
    "生成对抗网络（Generative Adversarial Networks，GAN）是一种深度学习模型，是近年来复杂分布上无监督学习最具前景的方法之一。\n",
    "\n",
    "最初，GAN由Ian Goodfellow 于2014年发明，并在论文[Generative Adversarial Nets](https://papers.nips.cc/paper/5423-generative-adversarial-nets.pdf)中首次进行了描述，GAN由两个不同的模型组成：*生成器*和*判别器*：\n",
    "\n",
    "- 生成器的任务是生成看起来像训练图像的“假”图像；\n",
    "- 判别器需要判断从生成器输出的图像是真实的训练图像还是生成的假图像。\n",
    "\n",
    "在训练过程中，生成器会不断尝试通过生成更好的假图像来骗过判别器，而判别器在这过程中也会逐步提升判别能力。这种博弈的平衡点是，当生成器生成的假图像看起来像训练数据时，判别器拥有50%的真假判断置信度。\n",
    "\n",
    "在教程开始前，首先定义一些在整个过程中需要用到的符号：\n",
    "\n",
    "- $x$：代表图像的数据。\n",
    "- $D(x)$：判别器网络，给出图像判定为真实图像的概率，其中$x$来自于训练数据而非生成器。\n",
    "\n",
    "由于我们在判别过程中需要处理图像，因此要为$D(x)$提供CHW格式且大小为3x64x64的图像。当$x$来自训练数据时，$D(x)$数值应该为高，而当$x$来自生成器时，$D(x)$数值应该为低。 因此$D(x)$也可以被认为是传统的二分类器。\n",
    "\n",
    "接下来我们来定义生成器的表示方法：\n",
    "\n",
    "- $z$：标准正态分布中提取出的隐向量。\n",
    "- $G(z)$：表示将隐向量$z$映射到数据空间的生成器函数。\n",
    "\n",
    "函数$G(z)$的目标是将一个随机高斯噪声$z$通过一个生成网络生成一个和真实数据分布$pdata(x)$差不多的数据分布，其中$θ$是网络参数，我们希望找到$θ$使得$pG(x;θ)$和$pdata(x)$尽可能的接近。\n",
    "\n",
    "- $D(G(z))$是生成器$G$生成的假图像被判定为真实图像的概率。\n",
    "\n",
    "如[Goodfellow 的论文](https://papers.nips.cc/paper/5423-generative-adversarial-nets.pdf)中所述，`D`和`G`在进行一场博弈，`D`想要最大程度的正确分类真图像与假图像，也就是参数$log D(x)$；而`G`试图欺骗`D`来最小化假图像被识别到的概率，也就是参数$log(1−D(G(z)))$。GAN的损失函数为：\n",
    "\n",
    "$$\\min_{G}\\max_{D}V(D,G)=E_{x\\sim_Pdata(x)}[log(D(x))]+E_{z\\sim_Pz(z)}[log(1-D(G(z)))]$$\n",
    "\n",
    "从理论上讲，此博弈游戏的平衡点是$pG(x;θ) = pdata(x)$，此时判别器会随机猜测输入是真图像还是假图像。然而，GAN的收敛可行性仍在研究当中，在实际场景中模型并不会被训练到这一步。\n",
    "\n",
    "### DCGAN\n",
    "\n",
    "DCGAN（深度卷积对抗生成网络）是GAN的直接扩展。不同之处在于，DCGAN会分别在判别器和生成器中使用卷积和卷积转置层。\n",
    "\n",
    "它最早由Radford等人在论文[Unsupervised Representation Learning With Deep Convolutional Generative Adversarial Networks](https://arxiv.org/pdf/1511.06434.pdf)中进行描述。判别器由分层的卷积层、BatchNorm层和LeakyReLU激活层组成。输入是3x64x64的图像，输出是该图像为真图像的概率。生成器则是由转置卷积层、BatchNorm层和ReLU激活层组成。输入是标准正态分布中提取出的隐向量$z$，输出是3x64x64的RGB图像。\n",
    "\n",
    "本教程将使用真实名人的照片来训练一个生成对抗网络（GAN），接着产生虚假名人图片。"
   ]
  },
  {
   "cell_type": "markdown",
   "metadata": {},
   "source": [
    "## 准备环节\n",
    "\n",
    "在下面的教程中，提供了有关如何设置优化器、如何计算损失函数以及如何初始化模型权重的说明。\n",
    "\n",
    "### 导入模块"
   ]
  },
  {
   "cell_type": "code",
   "execution_count": 1,
   "metadata": {},
   "outputs": [],
   "source": [
    "import numpy as np\n",
    "import matplotlib.pyplot as plt\n",
    "\n",
    "import mindspore.dataset as ds\n",
    "import mindspore.dataset.vision.c_transforms as vision\n",
    "from mindspore.common.initializer import Initializer\n",
    "from mindspore import nn, ops, Tensor\n",
    "from mindspore import dtype as mstype"
   ]
  },
  {
   "cell_type": "markdown",
   "metadata": {},
   "source": [
    "### 准备数据\n",
    "\n",
    "在本教程中，我们将使用[Celeb-A Faces 数据集](http://mmlab.ie.cuhk.edu.hk/projects/CelebA.html)，该数据集为人脸属性数据集，其包含10,177个名人身份的202,599张人脸图片。\n",
    "\n",
    "官网提供了多个下载链接，我们选择`Align&Cropped Images`下的`img_align_celeba.zip`，是202,599张经过人脸对齐和裁剪了的图像。因数据集较大，本教程为了节省下载和训练时间，所以采用了部分的数据集。\n",
    "\n",
    "为了完整流畅地运行程序，需要在当前路径下创建一个`data`目录，并在`data`目录下创建一个名为`celeba`的目录，并将压缩文件解压缩到该目录中。最后，将此教程的`dataroot`输入设置为刚创建的`celeba`目录。\n",
    "\n",
    "以下示例代码将数据集下载并解压到指定位置。`img_align_celeba.zip`是从Celeb-A Faces 数据集中选取了5000张图片压缩成的数据集，解压时不打印详细的解压信息，需要1~2分钟完成数据集的解压。"
   ]
  },
  {
   "cell_type": "code",
   "execution_count": 4,
   "metadata": {},
   "outputs": [
    {
     "name": "stdout",
     "output_type": "stream",
     "text": [
      "The img_align_celeba.zip file is downloaded and saved in the path ./data/celeba/ after processing\n"
     ]
    }
   ],
   "source": [
    "import os\n",
    "import requests\n",
    "import tarfile\n",
    "import zipfile\n",
    "\n",
    "requests.packages.urllib3.disable_warnings()\n",
    "\n",
    "def download_dataset(url, target_path):\n",
    "    \"\"\"下载并解压数据集\"\"\"\n",
    "    if not os.path.exists(target_path):\n",
    "        os.makedirs(target_path)\n",
    "\n",
    "    download_file = url.split(\"/\")[-1]\n",
    "    if not os.path.exists(download_file):\n",
    "        res = requests.get(url, stream=True, verify=False)\n",
    "        if download_file.split(\".\")[-1] not in [\"tgz\", \"zip\", \"tar\", \"gz\"]:\n",
    "            download_file = os.path.join(target_path, download_file)\n",
    "        with open(download_file, \"wb\") as f:\n",
    "            for chunk in res.iter_content(chunk_size=512):\n",
    "                if chunk:\n",
    "                    f.write(chunk)\n",
    "\n",
    "    if download_file.endswith(\"zip\"):\n",
    "        z = zipfile.ZipFile(download_file, \"r\")\n",
    "        z.extractall(path=target_path)\n",
    "        z.close()\n",
    "\n",
    "    if download_file.endswith(\".tar.gz\") or download_file.endswith(\".tar\") or download_file.endswith(\".tgz\"):\n",
    "        t = tarfile.open(download_file)\n",
    "        names = t.getnames()\n",
    "        for name in names:\n",
    "            t.extract(name, target_path)\n",
    "        t.close()\n",
    "\n",
    "    print(\"The {} file is downloaded and saved in the path {} after processing\".format(os.path.basename(url), target_path))\n",
    "\n",
    "download_dataset(\"https://mindspore-website.obs.cn-north-4.myhuaweicloud.com/notebook/datasets/intermediate/img_align_celeba.zip\", \"./data/celeba/\")"
   ]
  },
  {
   "cell_type": "markdown",
   "metadata": {},
   "source": [
    "目录结构如下："
   ]
  },
  {
   "cell_type": "markdown",
   "metadata": {},
   "source": [
    "```py\n",
    "./data/celeba\n",
    "    -> img_align_celeba\n",
    "        -> 188242.jpg\n",
    "        -> 173822.jpg\n",
    "        -> 284702.jpg\n",
    "        -> 537394.jpg\n",
    "           ...\n",
    "\n",
    "```"
   ]
  },
  {
   "cell_type": "markdown",
   "metadata": {},
   "source": [
    "## 数据处理\n",
    "\n",
    "首先为执行过程定义一些输入：\n",
    "\n",
    "- `dataroot`：数据集文件夹根目录；\n",
    "- `workers`：加载数据的线程数；\n",
    "- `batch_size`：训练中使用的批量大小，DCGAN论文使用的批量大小为128；\n",
    "- `image_size`：训练图像的大小，此实现默认为`64x64`，如果需要其他尺寸，则必须同时更改`D`和`G`的结构；\n",
    "- `nc`：输入图像中的彩色通道数，因为此次是彩色图像所以设为3；\n",
    "- `nz`：隐向量的长度；\n",
    "- `ngf`：设置通过生成器的特征图的深度；\n",
    "- `ndf`：设置通过判别器传播的特征图的深度；\n",
    "- `num_epochs`：要运行的训练周期数，训练更长的时间可能会导致更好的结果，但也会花费更长的时间；\n",
    "- `lr`：训练的学习率，如DCGAN论文中所述，此数字应为0.0001；\n",
    "- `beta1`：Adam优化器的`beta1`超参数。如DCGAN论文所述，该数字应为0.5；"
   ]
  },
  {
   "cell_type": "code",
   "execution_count": 5,
   "metadata": {},
   "outputs": [],
   "source": [
    "# 数据集根目录\n",
    "dataroot = \"./data\"\n",
    "\n",
    "# 载入数据线程数\n",
    "workers = 4\n",
    "\n",
    "# 批量大小\n",
    "batch_size = 32\n",
    "\n",
    "# 训练图像空间大小，所有图像都将调整为该大小\n",
    "image_size = 64\n",
    "\n",
    "# 图像彩色通道数，对于彩色图像为3\n",
    "nc = 3\n",
    "\n",
    "# 隐向量的长度\n",
    "nz = 100\n",
    "\n",
    "# 特征图在生成器中的大小\n",
    "ngf = 64\n",
    "\n",
    "# 特征图在判别器中的大小\n",
    "ndf = 64\n",
    "\n",
    "# 训练周期数\n",
    "num_epochs = 10\n",
    "\n",
    "# 学习率\n",
    "lr = 0.0003\n",
    "\n",
    "# Beta1 超参数\n",
    "beta1 = 0.5"
   ]
  },
  {
   "cell_type": "markdown",
   "metadata": {},
   "source": [
    "- 定义`create_dataset_imagenet`函数对数据进行处理和增强操作。"
   ]
  },
  {
   "cell_type": "code",
   "execution_count": 6,
   "metadata": {},
   "outputs": [],
   "source": [
    "def create_dataset_imagenet(dataset_path, num_parallel_workers=None):\n",
    "    # 数据加载\n",
    "    data_set = ds.ImageFolderDataset(dataset_path, num_parallel_workers=num_parallel_workers, shuffle=True)\n",
    "\n",
    "    # 数据增强操作\n",
    "    transform_img = [\n",
    "        vision.Decode(),\n",
    "        vision.Resize(image_size),\n",
    "        vision.CenterCrop(image_size),\n",
    "        vision.HWC2CHW()\n",
    "    ]\n",
    "\n",
    "    # 数据映射操作\n",
    "    data_set = data_set.map(input_columns=\"image\", num_parallel_workers=num_parallel_workers, operations=transform_img,\n",
    "                            output_columns=\"image\")\n",
    "    data_set = data_set.map(input_columns=\"image\", num_parallel_workers=num_parallel_workers,\n",
    "                            operations=lambda x: ((x - 255) / 255).astype(\"float32\"))\n",
    "    data_set = data_set.map(\n",
    "        input_columns=\"image\",\n",
    "        operations=lambda x: (\n",
    "            x,\n",
    "            np.random.normal(size=(nz, 1, 1)).astype(\"float32\")\n",
    "        ),\n",
    "        output_columns=[\"image\", \"latent_code\"],\n",
    "        column_order=[\"image\", \"latent_code\"],\n",
    "        num_parallel_workers=num_parallel_workers\n",
    "    )\n",
    "\n",
    "    # 批量操作\n",
    "    data_set = data_set.batch(batch_size)\n",
    "\n",
    "    return data_set\n",
    "\n",
    "# 获取处理后的数据集\n",
    "data = create_dataset_imagenet(dataroot, num_parallel_workers=workers)\n",
    "\n",
    "# 获取数据集大小\n",
    "size = data.get_dataset_size()"
   ]
  },
  {
   "cell_type": "markdown",
   "metadata": {},
   "source": [
    "- 通过`create_dict_iterator`函数将数据转换成字典迭代器，然后使用`matplotlib`模块可视化部分训练数据。"
   ]
  },
  {
   "cell_type": "code",
   "execution_count": 7,
   "metadata": {
    "scrolled": true
   },
   "outputs": [
    {
     "data": {
      "image/png": "[encoded data removed]",
      "text/plain": [
       "<Figure size 432x288 with 32 Axes>"
      ]
     },
     "metadata": {
      "needs_background": "light"
     },
     "output_type": "display_data"
    }
   ],
   "source": [
    "data_iter = next(data.create_dict_iterator(output_numpy=True, num_epochs=num_epochs))\n",
    "images = data_iter['image']\n",
    "count = 1\n",
    "\n",
    "# 可视化36张图片\n",
    "for i in images[:36]:\n",
    "    plt.subplot(6, 6, count)\n",
    "    plt.imshow(i.transpose(1, 2, 0))\n",
    "    plt.axis(\"off\")\n",
    "    plt.xticks([])\n",
    "    count += 1\n",
    "\n",
    "plt.show()"
   ]
  },
  {
   "cell_type": "markdown",
   "metadata": {},
   "source": [
    "## 创建网络\n",
    "\n",
    "当处理完数据后，就可以来进行网络的搭建了。网络搭建将以权重初始化策略为起点，逐一详细讨论生成器、判别器和损失函数。\n",
    "\n",
    "### 权重初始化\n",
    "\n",
    "教程遵循DCGAN论文中的内容，所有模型权重均应从`mean`为0，`sigma`为0.02的正态分布中随机初始化。"
   ]
  },
  {
   "cell_type": "code",
   "execution_count": 8,
   "metadata": {},
   "outputs": [],
   "source": [
    "def _assignment(arr, num):\n",
    "    if arr.shape == ():\n",
    "        arr = arr.reshape((1))\n",
    "        arr[:] = num\n",
    "        arr = arr.reshape(())\n",
    "    else:\n",
    "        if isinstance(num, np.ndarray):\n",
    "            arr[:] = num[:]\n",
    "        else:\n",
    "            arr[:] = num\n",
    "    return arr\n",
    "\n",
    "class Normal(Initializer):\n",
    "    \"\"\"将模型权重从均值为0，标准差为0.02的正态分布中随机初始化\"\"\"\n",
    "    def __init__(self, mean=0.0, sigma=0.02):\n",
    "        super(Normal, self).__init__()\n",
    "        self.sigma = sigma\n",
    "        self.mean = mean\n",
    "\n",
    "    def _initialize(self, arr):\n",
    "        np.random.seed(999)\n",
    "        arr_normal = np.random.normal(self.mean, self.sigma, arr.shape)\n",
    "        _assignment(arr, arr_normal)"
   ]
  },
  {
   "cell_type": "markdown",
   "metadata": {},
   "source": [
    "### 生成器\n",
    "\n",
    "生成器`G`的功能是将隐向量`z`映射到数据空间。由于数据是图像，这一过程也会创建与真实图像大小相同的 RGB 图像。在实践场景中，该功能是通过一系列`Conv2dTranspose`转置卷积层来完成的，每个层都与`BatchNorm2d`层和`ReLu`激活层配对，输出数据会经过`tanh`函数，使其返回`[-1,1]`的数据范围内。\n",
    "\n",
    "DCGAN论文生成图像如下所示。\n",
    "\n",
    "![dcgangenerator](https://gitee.com/mindspore/docs/raw/master/tutorials/source_zh_cn/intermediate/image_and_video/images/dcgan.png)\n",
    "\n",
    "> 图片来源 https://arxiv.org/pdf/1511.06434.pdf"
   ]
  },
  {
   "cell_type": "markdown",
   "metadata": {},
   "source": [
    "我们通过输入部分中设置的`nz`、`ngf`和`nc`来影响代码中的生成器结构。`nz`是隐向量`z`的长度，`ngf`与通过生成器传播的特征图的大小有关，`nc`是输出图像中的通道数。\n",
    "\n",
    "以下是生成器的代码实现："
   ]
  },
  {
   "cell_type": "code",
   "execution_count": 9,
   "metadata": {},
   "outputs": [],
   "source": [
    "def convt(in_channels, out_channels, kernel_size, stride=1, padding=0, pad_mode=\"pad\"):\n",
    "    \"\"\"定义转置卷积层\"\"\"\n",
    "    weight_init = Normal(mean=0, sigma=0.02)\n",
    "    return nn.Conv2dTranspose(in_channels, out_channels,\n",
    "                              kernel_size=kernel_size, stride=stride, padding=padding,\n",
    "                              weight_init=weight_init, has_bias=False, pad_mode=pad_mode)\n",
    "\n",
    "\n",
    "def bn(num_features):\n",
    "    \"\"\"定义BatchNorm2d层\"\"\"\n",
    "    gamma_init = Normal(mean=1, sigma=0.02)\n",
    "    return nn.BatchNorm2d(num_features=num_features, gamma_init=gamma_init)\n",
    "\n",
    "\n",
    "class Generator(nn.Cell):\n",
    "    \"\"\"DCGAN网络生成器\"\"\"\n",
    "    def __init__(self):\n",
    "        super(Generator, self).__init__()\n",
    "        self.generator = nn.SequentialCell()\n",
    "        self.generator.append(convt(nz, ngf * 8, 4, 1, 0))\n",
    "        self.generator.append(bn(ngf * 8))\n",
    "        self.generator.append(nn.ReLU())\n",
    "        self.generator.append(convt(ngf * 8, ngf * 4, 4, 2, 1))\n",
    "        self.generator.append(bn(ngf * 4))\n",
    "        self.generator.append(nn.ReLU())\n",
    "        self.generator.append(convt(ngf * 4, ngf * 2, 4, 2, 1))\n",
    "        self.generator.append(bn(ngf * 2))\n",
    "        self.generator.append(nn.ReLU())\n",
    "        self.generator.append(convt(ngf * 2, ngf, 4, 2, 1))\n",
    "        self.generator.append(bn(ngf))\n",
    "        self.generator.append(nn.ReLU())\n",
    "        self.generator.append(convt(ngf, nc, 4, 2, 1))\n",
    "        self.generator.append(nn.Tanh())\n",
    "\n",
    "    def construct(self, x):\n",
    "        return self.generator(x)\n"
   ]
  },
  {
   "cell_type": "markdown",
   "metadata": {},
   "source": [
    "实例化生成器，并打印出生成器的结构。"
   ]
  },
  {
   "cell_type": "code",
   "execution_count": 10,
   "metadata": {},
   "outputs": [
    {
     "name": "stdout",
     "output_type": "stream",
     "text": [
      "Generator<\n",
      "  (generator): SequentialCell<\n",
      "    (0): Conv2dTranspose<input_channels=100, output_channels=512, kernel_size=(4, 4), stride=(1, 1), pad_mode=pad, padding=0, dilation=(1, 1), group=1, has_bias=False, weight_init=<__main__.Normal object at 0x7f4dda458610>, bias_init=zeros>\n",
      "    (1): BatchNorm2d<num_features=512, eps=1e-05, momentum=0.09999999999999998, gamma=Parameter (name=1.gamma, shape=(512,), dtype=Float32, requires_grad=True), beta=Parameter (name=1.beta, shape=(512,), dtype=Float32, requires_grad=True), moving_mean=Parameter (name=1.moving_mean, shape=(512,), dtype=Float32, requires_grad=False), moving_variance=Parameter (name=1.moving_variance, shape=(512,), dtype=Float32, requires_grad=False)>\n",
      "    (2): ReLU<>\n",
      "    (3): Conv2dTranspose<input_channels=512, output_channels=256, kernel_size=(4, 4), stride=(2, 2), pad_mode=pad, padding=1, dilation=(1, 1), group=1, has_bias=False, weight_init=<__main__.Normal object at 0x7f4dd388a760>, bias_init=zeros>\n",
      "    (4): BatchNorm2d<num_features=256, eps=1e-05, momentum=0.09999999999999998, gamma=Parameter (name=4.gamma, shape=(256,), dtype=Float32, requires_grad=True), beta=Parameter (name=4.beta, shape=(256,), dtype=Float32, requires_grad=True), moving_mean=Parameter (name=4.moving_mean, shape=(256,), dtype=Float32, requires_grad=False), moving_variance=Parameter (name=4.moving_variance, shape=(256,), dtype=Float32, requires_grad=False)>\n",
      "    (5): ReLU<>\n",
      "    (6): Conv2dTranspose<input_channels=256, output_channels=128, kernel_size=(4, 4), stride=(2, 2), pad_mode=pad, padding=1, dilation=(1, 1), group=1, has_bias=False, weight_init=<__main__.Normal object at 0x7f4dd38f84f0>, bias_init=zeros>\n",
      "    (7): BatchNorm2d<num_features=128, eps=1e-05, momentum=0.09999999999999998, gamma=Parameter (name=7.gamma, shape=(128,), dtype=Float32, requires_grad=True), beta=Parameter (name=7.beta, shape=(128,), dtype=Float32, requires_grad=True), moving_mean=Parameter (name=7.moving_mean, shape=(128,), dtype=Float32, requires_grad=False), moving_variance=Parameter (name=7.moving_variance, shape=(128,), dtype=Float32, requires_grad=False)>\n",
      "    (8): ReLU<>\n",
      "    (9): Conv2dTranspose<input_channels=128, output_channels=64, kernel_size=(4, 4), stride=(2, 2), pad_mode=pad, padding=1, dilation=(1, 1), group=1, has_bias=False, weight_init=<__main__.Normal object at 0x7f4dd37bca90>, bias_init=zeros>\n",
      "    (10): BatchNorm2d<num_features=64, eps=1e-05, momentum=0.09999999999999998, gamma=Parameter (name=10.gamma, shape=(64,), dtype=Float32, requires_grad=True), beta=Parameter (name=10.beta, shape=(64,), dtype=Float32, requires_grad=True), moving_mean=Parameter (name=10.moving_mean, shape=(64,), dtype=Float32, requires_grad=False), moving_variance=Parameter (name=10.moving_variance, shape=(64,), dtype=Float32, requires_grad=False)>\n",
      "    (11): ReLU<>\n",
      "    (12): Conv2dTranspose<input_channels=64, output_channels=3, kernel_size=(4, 4), stride=(2, 2), pad_mode=pad, padding=1, dilation=(1, 1), group=1, has_bias=False, weight_init=<__main__.Normal object at 0x7f4dd37bc820>, bias_init=zeros>\n",
      "    (13): Tanh<>\n",
      "    >\n",
      "  >\n"
     ]
    }
   ],
   "source": [
    "netG = Generator()\n",
    "print(netG)"
   ]
  },
  {
   "cell_type": "markdown",
   "metadata": {},
   "source": [
    "### 判别器\n",
    "\n",
    "如前所述，判别器`D`是一个二分类网络模型，输出判定该图像为真实图的概率。通过一系列的`Conv2d`、`BatchNorm2d`和`LeakyReLU`层对其进行处理，最后通过`Sigmoid`激活函数得到最终概率。\n",
    "\n",
    "DCGAN论文提到，使用卷积而不是通过池化来进行下采样是一个好习惯，因为它可以让网络学习自己的池化特征。\n",
    "\n",
    "判别器的代码实现如下："
   ]
  },
  {
   "cell_type": "code",
   "execution_count": 11,
   "metadata": {},
   "outputs": [],
   "source": [
    "def conv(in_channels, out_channels, kernel_size, stride=1, padding=0, pad_mode=\"pad\"):\n",
    "    \"\"\"定义卷积层\"\"\"\n",
    "    weight_init = Normal(mean=0, sigma=0.02)\n",
    "    return nn.Conv2d(in_channels, out_channels,\n",
    "                     kernel_size=kernel_size, stride=stride, padding=padding,\n",
    "                     weight_init=weight_init, has_bias=False, pad_mode=pad_mode)\n",
    "\n",
    "class Discriminator(nn.Cell):\n",
    "    \"\"\"\n",
    "    DCGAN网络判别器\n",
    "    \"\"\"\n",
    "\n",
    "    def __init__(self):\n",
    "        super(Discriminator, self).__init__()\n",
    "        self.discriminator = nn.SequentialCell()\n",
    "        self.discriminator.append(conv(nc, ndf, 4, 2, 1))\n",
    "        self.discriminator.append(nn.LeakyReLU(0.2))\n",
    "        self.discriminator.append(conv(ndf, ndf * 2, 4, 2, 1))\n",
    "        self.discriminator.append(bn(ndf * 2))\n",
    "        self.discriminator.append(nn.LeakyReLU(0.2))\n",
    "        self.discriminator.append(conv(ndf * 2, ndf * 4, 4, 2, 1))\n",
    "        self.discriminator.append(bn(ndf * 4))\n",
    "        self.discriminator.append(nn.LeakyReLU(0.2))\n",
    "        self.discriminator.append(conv(ndf * 4, ndf * 8, 4, 2, 1))\n",
    "        self.discriminator.append(bn(ndf * 8))\n",
    "        self.discriminator.append(nn.LeakyReLU(0.2))\n",
    "        self.discriminator.append(conv(ndf * 8, 1, 4, 1))\n",
    "        self.discriminator.append(nn.Sigmoid())\n",
    "\n",
    "    def construct(self, x):\n",
    "        return self.discriminator(x)"
   ]
  },
  {
   "cell_type": "markdown",
   "metadata": {},
   "source": [
    "实例化判别器，并打印出判别器的结构。"
   ]
  },
  {
   "cell_type": "code",
   "execution_count": 12,
   "metadata": {},
   "outputs": [
    {
     "name": "stdout",
     "output_type": "stream",
     "text": [
      "Discriminator<\n",
      "  (discriminator): SequentialCell<\n",
      "    (0): Conv2d<input_channels=3, output_channels=64, kernel_size=(4, 4), stride=(2, 2), pad_mode=pad, padding=1, dilation=(1, 1), group=1, has_bias=False, weight_init=<__main__.Normal object at 0x7f4dd3861760>, bias_init=zeros, format=NCHW>\n",
      "    (1): LeakyReLU<>\n",
      "    (2): Conv2d<input_channels=64, output_channels=128, kernel_size=(4, 4), stride=(2, 2), pad_mode=pad, padding=1, dilation=(1, 1), group=1, has_bias=False, weight_init=<__main__.Normal object at 0x7f4dd382af40>, bias_init=zeros, format=NCHW>\n",
      "    (3): BatchNorm2d<num_features=128, eps=1e-05, momentum=0.09999999999999998, gamma=Parameter (name=3.gamma, shape=(128,), dtype=Float32, requires_grad=True), beta=Parameter (name=3.beta, shape=(128,), dtype=Float32, requires_grad=True), moving_mean=Parameter (name=3.moving_mean, shape=(128,), dtype=Float32, requires_grad=False), moving_variance=Parameter (name=3.moving_variance, shape=(128,), dtype=Float32, requires_grad=False)>\n",
      "    (4): LeakyReLU<>\n",
      "    (5): Conv2d<input_channels=128, output_channels=256, kernel_size=(4, 4), stride=(2, 2), pad_mode=pad, padding=1, dilation=(1, 1), group=1, has_bias=False, weight_init=<__main__.Normal object at 0x7f4dda13bd90>, bias_init=zeros, format=NCHW>\n",
      "    (6): BatchNorm2d<num_features=256, eps=1e-05, momentum=0.09999999999999998, gamma=Parameter (name=6.gamma, shape=(256,), dtype=Float32, requires_grad=True), beta=Parameter (name=6.beta, shape=(256,), dtype=Float32, requires_grad=True), moving_mean=Parameter (name=6.moving_mean, shape=(256,), dtype=Float32, requires_grad=False), moving_variance=Parameter (name=6.moving_variance, shape=(256,), dtype=Float32, requires_grad=False)>\n",
      "    (7): LeakyReLU<>\n",
      "    (8): Conv2d<input_channels=256, output_channels=512, kernel_size=(4, 4), stride=(2, 2), pad_mode=pad, padding=1, dilation=(1, 1), group=1, has_bias=False, weight_init=<__main__.Normal object at 0x7f4dd37bc040>, bias_init=zeros, format=NCHW>\n",
      "    (9): BatchNorm2d<num_features=512, eps=1e-05, momentum=0.09999999999999998, gamma=Parameter (name=9.gamma, shape=(512,), dtype=Float32, requires_grad=True), beta=Parameter (name=9.beta, shape=(512,), dtype=Float32, requires_grad=True), moving_mean=Parameter (name=9.moving_mean, shape=(512,), dtype=Float32, requires_grad=False), moving_variance=Parameter (name=9.moving_variance, shape=(512,), dtype=Float32, requires_grad=False)>\n",
      "    (10): LeakyReLU<>\n",
      "    (11): Conv2d<input_channels=512, output_channels=1, kernel_size=(4, 4), stride=(1, 1), pad_mode=pad, padding=0, dilation=(1, 1), group=1, has_bias=False, weight_init=<__main__.Normal object at 0x7f4dd37bc4c0>, bias_init=zeros, format=NCHW>\n",
      "    (12): Sigmoid<>\n",
      "    >\n",
      "  >\n"
     ]
    }
   ],
   "source": [
    "netD = Discriminator()\n",
    "print(netD)"
   ]
  },
  {
   "cell_type": "markdown",
   "metadata": {},
   "source": [
    "### 连接网络和损失函数\n",
    "\n",
    "MindSpore将损失函数、优化器等操作都封装到了Cell中，因为GAN结构上的特殊性，其损失是判别器和生成器的多输出形式，这就导致它和一般的分类网络不同。所以我们需要自定义`WithLossCell`类，将网络和Loss连接起来。"
   ]
  },
  {
   "cell_type": "code",
   "execution_count": 13,
   "metadata": {},
   "outputs": [],
   "source": [
    "class WithLossCellG(nn.Cell):\n",
    "    \"\"\"连接生成器和损失\"\"\"\n",
    "    def __init__(self, netD, netG, loss_fn):\n",
    "        super(WithLossCellG, self).__init__(auto_prefix=True)\n",
    "        self.netD = netD\n",
    "        self.netG = netG\n",
    "        self.loss_fn = loss_fn\n",
    "\n",
    "    def construct(self, latent_code):\n",
    "        \"\"\"构建生成器损失计算结构\"\"\"\n",
    "        fake_data = self.netG(latent_code)\n",
    "        out = self.netD(fake_data)\n",
    "        label = ops.OnesLike()(out).astype(mstype.float32)\n",
    "        loss = self.loss_fn(out, label)\n",
    "        return fake_data, loss\n",
    "\n",
    "\n",
    "class WithLossCellD(nn.Cell):\n",
    "    \"\"\"连接判别器和损失\"\"\"\n",
    "    def __init__(self, netD, loss_fn):\n",
    "        super(WithLossCellD, self).__init__(auto_prefix=True)\n",
    "        self.netD = netD\n",
    "        self.loss_fn = loss_fn\n",
    "\n",
    "    def construct(self, real_data, fake_data):\n",
    "        \"\"\"构建判别器损失计算结构\"\"\"\n",
    "        out1 = self.netD(real_data)\n",
    "        label1 = ops.OnesLike()(out1).astype(mstype.float32)\n",
    "        loss1 = self.loss_fn(out1, label1)\n",
    "\n",
    "        out2 = self.netD(fake_data)\n",
    "        label2 = ops.ZerosLike()(out2).astype(mstype.float32)\n",
    "        loss2 = self.loss_fn(out2, label2)\n",
    "        return loss1 + loss2"
   ]
  },
  {
   "cell_type": "markdown",
   "metadata": {},
   "source": [
    "### 损失函数和优化器\n",
    "\n",
    "当定义了`D`和`G`后，接下来将使用MindSpore中定义的二进制交叉熵损失函数[BCELoss](https://www.mindspore.cn/docs/api/zh-CN/master/api_python/nn/mindspore.nn.BCELoss.html)\n",
    "，为`D`和`G`加上损失函数和优化器。\n",
    "\n",
    "这里设置了两个单独的优化器，一个用于`D`，另一个用于`G`。这两个都是`lr = 0.0002`和`beta1 = 0.5`的Adam优化器。为此将真实标签定义为1，将虚假标签定义为0，该标签在分别计算`D`和`G`的损失时使用。\n",
    "\n",
    "为了跟踪生成器的学习进度，将生成一批固定的遵循高斯分布的隐向量 `fixed_noise`。在训练的过程中，定期将`fixed_noise`输入到`G`中，可以看到隐向量生成的图像。"
   ]
  },
  {
   "cell_type": "code",
   "execution_count": 14,
   "metadata": {},
   "outputs": [],
   "source": [
    "# 定义损失函数\n",
    "criterion = nn.BCELoss(reduction='mean')\n",
    "\n",
    "# 创建一批隐向量用来观察G\n",
    "np.random.seed(1)\n",
    "fixed_noise = Tensor(np.random.randn(64, nz, 1, 1), dtype=mstype.float32)\n",
    "\n",
    "# 为生成器和判别器设置优化器\n",
    "optimizerD = nn.Adam(netD.trainable_params(), learning_rate=lr, beta1=beta1, loss_scale=1)\n",
    "optimizerG = nn.Adam(netG.trainable_params(), learning_rate=lr, beta1=beta1, loss_scale=1)"
   ]
  },
  {
   "cell_type": "markdown",
   "metadata": {},
   "source": [
    "### 训练\n",
    "\n",
    "训练分为两个主要部分：训练判别器和训练生成器。\n",
    "\n",
    "- 训练判别器\n",
    "\n",
    "   训练判别器的目的是最大程度地提高判别图像真伪的概率。按照Goodfellow的方法，是希望通过提高其随机梯度来更新判别器，所以我们要最大化$log D(x) + log(1 - D(G(z))$的值。\n",
    "\n",
    "- 训练生成器\n",
    "\n",
    "   如DCGAN论文所述，我们希望通过最小化$log(1 - D(G(z)))$来训练生成器，以产生更好的虚假图像。\n",
    "\n",
    "   在这两个部分中，分别获取训练过程中的损失，并在每个周期结束时进行统计，将`fixed_noise`批量推送到生成器中，以直观地跟踪`G`的训练进度。\n",
    "\n",
    "下面进行训练："
   ]
  },
  {
   "cell_type": "markdown",
   "metadata": {},
   "source": [
    "- 定义DCGAN网络。"
   ]
  },
  {
   "cell_type": "code",
   "execution_count": 15,
   "metadata": {},
   "outputs": [],
   "source": [
    "class DCGAN(nn.Cell):\n",
    "    def __init__(self, withLossCellG, g_opt, withLossCellD, d_opt):\n",
    "        super(DCGAN, self).__init__(auto_prefix=True)\n",
    "        self.withLossCellG = withLossCellG\n",
    "        self.g_opt = g_opt\n",
    "        self.g_weights = self.g_opt.parameters\n",
    "\n",
    "        self.withLossCellD = withLossCellD\n",
    "        self.d_opt = d_opt\n",
    "        self.d_weights = self.d_opt.parameters\n",
    "        self.grad = ops.GradOperation(get_by_list=True, sens_param=True)\n",
    "\n",
    "    def construct(self, real_data, latent_code):\n",
    "        fake_data, g_loss = self.withLossCellG(latent_code)\n",
    "        fake_data_sens = ops.fill(fake_data.dtype, fake_data.shape, 0)\n",
    "        g_loss_sens = ops.fill(g_loss.dtype, g_loss.shape, 1)\n",
    "        g_grads = self.grad(self.withLossCellG, self.g_weights)(latent_code, (fake_data_sens, g_loss_sens))\n",
    "\n",
    "        d_loss = self.withLossCellD(real_data, fake_data)\n",
    "        d_loss_sens = ops.fill(d_loss.dtype, d_loss.shape, 1)\n",
    "        d_grads = self.grad(self.withLossCellD, self.d_weights)(real_data, fake_data, d_loss_sens)\n",
    "        self.g_opt(g_grads)\n",
    "        self.d_opt(d_grads)\n",
    "        return d_loss, g_loss"
   ]
  },
  {
   "cell_type": "markdown",
   "metadata": {},
   "source": [
    "- 实例化生成器和判别器的`WithLossCell`和`TrainOneStepCell`。"
   ]
  },
  {
   "cell_type": "code",
   "execution_count": 16,
   "metadata": {},
   "outputs": [],
   "source": [
    "# 实例化WithLossCell\n",
    "netD_with_criterion = WithLossCellD(netD, criterion)\n",
    "netG_with_criterion = WithLossCellG(netD, netG, criterion)"
   ]
  },
  {
   "cell_type": "markdown",
   "metadata": {},
   "source": [
    "- 循环训练网络，每经过50次迭代，就收集生成器和判别器的损失，以便于后面绘制训练过程中损失函数的图像。"
   ]
  },
  {
   "cell_type": "code",
   "execution_count": null,
   "metadata": {},
   "outputs": [
    {
     "name": "stdout",
     "output_type": "stream",
     "text": [
      "Starting Training Loop...\n",
      "[1/10][0/157]\tLoss_D: 2.1231\tLoss_G: 1.2971\n",
      "[1/10][50/157]\tLoss_D: 0.9514\tLoss_G: 26.6056\n",
      "[1/10][100/157]\tLoss_D: 1.5633\tLoss_G: 1.3798\n",
      "[1/10][150/157]\tLoss_D: 1.0069\tLoss_G: 0.9367\n",
      "[2/10][0/157]\tLoss_D: 3.2818\tLoss_G: 5.7987\n",
      "[2/10][50/157]\tLoss_D: 0.6556\tLoss_G: 1.2558\n",
      "[2/10][100/157]\tLoss_D: 0.3789\tLoss_G: 6.5568\n",
      "[2/10][150/157]\tLoss_D: 0.5216\tLoss_G: 3.0158\n",
      "[3/10][0/157]\tLoss_D: 1.8712\tLoss_G: 0.7203\n",
      "[3/10][50/157]\tLoss_D: 1.0970\tLoss_G: 1.0207\n",
      "[3/10][100/157]\tLoss_D: 0.3220\tLoss_G: 4.7417\n",
      "[3/10][150/157]\tLoss_D: 1.2459\tLoss_G: 0.7845\n",
      "[4/10][0/157]\tLoss_D: 0.7303\tLoss_G: 2.2348\n",
      "[4/10][50/157]\tLoss_D: 0.7547\tLoss_G: 3.7700\n"
     ]
    }
   ],
   "source": [
    "# 实例化DCGAN网络\n",
    "dcgan = DCGAN(netG_with_criterion, optimizerG, netD_with_criterion, optimizerD)\n",
    "dcgan.set_train()\n",
    "\n",
    "#创建迭代器\n",
    "data_loader = data.create_dict_iterator(output_numpy=True, num_epochs=num_epochs)\n",
    "G_losses = []\n",
    "D_losses = []\n",
    "iters = 0\n",
    "image_list = []\n",
    "\n",
    "# 开始循环训练\n",
    "print(\"Starting Training Loop...\")\n",
    "\n",
    "for epoch in range(num_epochs):\n",
    "    # 为每轮训练读入数据\n",
    "    for i, d in enumerate(data_loader):\n",
    "        real_data = Tensor(d['image'])\n",
    "        latent_code = Tensor(d[\"latent_code\"])\n",
    "        netD_loss, netG_loss = dcgan(real_data, latent_code)\n",
    "        if i % 50 == 0:\n",
    "            # 输出训练记录\n",
    "            print('[%d/%d][%d/%d]\\tLoss_D: %.4f\\tLoss_G: %.4f'% (epoch + 1, num_epochs, i, size, netD_loss.asnumpy(), netG_loss.asnumpy()))\n",
    "        D_losses.append(netD_loss.asnumpy())\n",
    "        G_losses.append(netG_loss.asnumpy())\n",
    "        if (iters % 100) == 0 or ((epoch == num_epochs) and (i == size-1)):\n",
    "            img = netG(fixed_noise)\n",
    "            image_list.append(img.transpose(0, 2, 3, 1).asnumpy())\n",
    "        iters += 1"
   ]
  },
  {
   "cell_type": "markdown",
   "metadata": {},
   "source": [
    "## 结果\n",
    "\n",
    "- 运行下面代码，描绘`D`和`G`损失与训练迭代的关系图："
   ]
  },
  {
   "cell_type": "code",
   "execution_count": null,
   "metadata": {},
   "outputs": [],
   "source": [
    "plt.figure(figsize=(10, 5))\n",
    "plt.title(\"Generator and Discriminator Loss During Training\")\n",
    "plt.plot(G_losses, label=\"G\", color='blue')\n",
    "plt.plot(D_losses, label=\"D\", color='orange')\n",
    "plt.xlabel(\"iterations\")\n",
    "plt.ylabel(\"Loss\")\n",
    "plt.legend()\n",
    "plt.show()"
   ]
  },
  {
   "cell_type": "markdown",
   "metadata": {},
   "source": [
    "- 可视化训练过程中通过隐向量`fixed_noise`生成的图像，每次只取9张图像展示。"
   ]
  },
  {
   "cell_type": "markdown",
   "metadata": {},
   "source": [
    "![gif](https://gitee.com/mindspore/docs/raw/master/tutorials/source_zh_cn/intermediate/image_and_video/images/SDGIF_Rusult_1.gif)"
   ]
  },
  {
   "cell_type": "markdown",
   "metadata": {},
   "source": [
    "由上图可见训练过的网络成功生成了虚假名人图像。"
   ]
  }
 ],
 "metadata": {
  "kernelspec": {
   "display_name": "MindSpore",
   "language": "python",
   "name": "mindspore"
  },
  "language_info": {
   "codemirror_mode": {
    "name": "ipython",
    "version": 3
   },
   "file_extension": ".py",
   "mimetype": "text/x-python",
   "name": "python",
   "nbconvert_exporter": "python",
   "pygments_lexer": "ipython3",
   "version": "3.9.7"
  },
  "toc": {
   "base_numbering": 1,
   "nav_menu": {},
   "number_sections": true,
   "sideBar": true,
   "skip_h1_title": false,
   "title_cell": "Table of Contents",
   "title_sidebar": "Contents",
   "toc_cell": false,
   "toc_position": {},
   "toc_section_display": true,
   "toc_window_display": false
  }
 },
 "nbformat": 4,
 "nbformat_minor": 4
}
