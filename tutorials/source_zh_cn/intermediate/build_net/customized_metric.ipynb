{
 "cells": [
  {
   "cell_type": "markdown",
   "metadata": {},
   "source": [
    "# 自定义评价函数\n",
    "\n",
    "[![下载Notebook](https://gitee.com/mindspore/docs/raw/master/resource/_static/logo_notebook.png)](https://obs.dualstack.cn-north-4.myhuaweicloud.com/mindspore-website/notebook/tutorials-develop/tutorials/zh_cn/mindspore_customized_metric.ipynb)&emsp;[![下载样例代码](https://gitee.com/mindspore/docs/raw/master/resource/_static/logo_download_code.png)](https://obs.dualstack.cn-north-4.myhuaweicloud.com/mindspore-website/notebook/tutorials-develop/tutorial/zh_cn/mindspore_customized_metric.py)&emsp;[![查看源文件](https://gitee.com/mindspore/docs/raw/master/resource/_static/logo_source.png)](https://gitee.com/mindspore/docs/blob/tutorials-develop/tutorials/source_zh_cn/intermediate/build_net/customized_metric.ipynb)\n",
    "\n",
    "当训练任务结束，常常需要评价函数(Metrics)来评估模型的好坏。不同的训练任务往往需要不同的Metrics函数。例如，对于二分类问题，常用的评价指标有precision(准确率)、recall(召回率)等， 而对于多分类任务，可使用宏平均\n",
    "(Macro)和微平均(Micro)来评估。MindSpore提供了大部分常见任务的评价函数，如`nn.Accuracy`、`nn.Pecision`、`nn.MAE`、`nn.TopKCategoricalAccuracy`和`nn.MSE`等，详情可参考：[评估指标](https://www.mindspore.cn/docs/api/zh-CN/master/api_python/mindspore.nn.html#id16)。由于MindSpore提供的评价函数无法满足所有任务的需求，很多情况下用户需要针对具体的任务自定义Metrics来评估训练的模型。本章主要介绍如何自定义Metrics以及如何在`nn.Model`中使用Metrics。\n",
    "\n",
    "## 自定义Metrics\n",
    "\n",
    "自定义Metrics函数需要继承`nn.Metric`父类，并重新实现父类中的`clear`方法、`update`方法和`eval`方法。下面以简单的平均绝对误差`MAE`为例，MAE公式如式（1）所示，介绍这三个函数及其使用方法。\n",
    "\n",
    "$$ MAE=\\frac{1}{n}\\sum_{i=1}^n\\lvert ypred_i - y_i \\rvert \\tag1$$\n",
    "\n",
    "- `clear`：初始化相关的内部参数。\n",
    "- `update`：接收网络预测输出和标签，计算误差，并更新内部评估结果。如果用户评估网络有多个输出，但只用两个输出进行评估，此时可以使用`set_indexes`方法重排`update`的输入用于计算评估指标。`update`一般在每个step进行计算并更新统计值。\n",
    "- `eval`：计算最终评估结果，一般在一个epoch结束后计算最终的评估结果。"
   ]
  },
  {
   "cell_type": "code",
   "execution_count": 14,
   "metadata": {
    "ExecuteTime": {
     "end_time": "2022-01-04T11:04:40.488396Z",
     "start_time": "2022-01-04T11:04:38.090036Z"
    }
   },
   "outputs": [
    {
     "name": "stdout",
     "output_type": "stream",
     "text": [
      "output(x,y): 0.1499999612569809\n",
      "output(x,z): 0.24999992549419403\n"
     ]
    }
   ],
   "source": [
    "import numpy as np\n",
    "import mindspore\n",
    "from mindspore import Tensor\n",
    "import mindspore.nn as nn\n",
    "\n",
    "\n",
    "class MAE(nn.Metric):\n",
    "    def __init__(self):\n",
    "        super(MAE, self).__init__()\n",
    "        self.clear()\n",
    "\n",
    "    def clear(self):\n",
    "        \"\"\"初始化变量_abs_error_sum和_samples_num\"\"\"\n",
    "        self._abs_error_sum = 0  # 保存误差和\n",
    "        self._samples_num = 0  # 累计数据量\n",
    "\n",
    "    @nn.rearrange_inputs\n",
    "    def update(self, *inputs):\n",
    "        \"\"\"更新_abs_error_sum和_samples_num\"\"\"\n",
    "        if len(inputs) != 2:\n",
    "            raise ValueError('Mean absolute error need 2 inputs (y_pred, y), but got {}'.format(len(inputs)))\n",
    "        # 将Tensor转换为NumPy，便于后续计算\n",
    "        y_pred = inputs[0].asnumpy()\n",
    "        y = inputs[1].asnumpy()\n",
    "        # 计算预测值与真实值的绝对误差\n",
    "        abs_error_sum = np.abs(y.reshape(y_pred.shape) - y_pred)\n",
    "        self._abs_error_sum += abs_error_sum.sum()\n",
    "        # 样本的总数\n",
    "        self._samples_num += y.shape[0]\n",
    "\n",
    "    def eval(self):\n",
    "        \"\"\"计算最终评估结果\"\"\"\n",
    "        if self._samples_num == 0:\n",
    "            raise RuntimeError('Total samples num must not be 0.')\n",
    "        return self._abs_error_sum / self._samples_num\n",
    "\n",
    "\n",
    "# 网络有两个输出：x，y\n",
    "x = Tensor(np.array([[0.1, 0.2, 0.6, 0.9], [0.1, 0.2, 0.6, 0.9]]), mindspore.float32)\n",
    "y = Tensor(np.array([[0.1, 0.25, 0.7, 0.9], [0.1, 0.25, 0.7, 0.9]]), mindspore.float32)\n",
    "error = MAE()\n",
    "error.clear()\n",
    "error.update(x, y)\n",
    "result = error.eval()\n",
    "print(\"output(x,y):\", result)\n",
    "\n",
    "# 网络有三个输出:x，y，z\n",
    "x = Tensor(np.array([[0.1, 0.2, 0.6, 0.9], [0.1, 0.2, 0.6, 0.9]]), mindspore.float32)\n",
    "y = Tensor(np.array([[0.1, 0.25, 0.7, 0.9], [0.1, 0.25, 0.7, 0.9]]), mindspore.float32)\n",
    "z = Tensor(np.array([[0.1, 0.25, 0.7, 0.8], [0.1, 0.25, 0.7, 0.8]]), mindspore.float32)\n",
    "# 设置使用x,z进行评估\n",
    "error = MAE().set_indexes([0, 2])\n",
    "error.clear()\n",
    "error.update(x, y, z)\n",
    "result = error.eval()\n",
    "print(\"output(x,z):\", result)"
   ]
  },
  {
   "cell_type": "markdown",
   "metadata": {},
   "source": [
    ">使用`set_indexes`方法，需要用装饰器`mindspore.nn.rearrange_inputs`修饰`update`方法，否则使用set_indexes配置的输入不生效。"
   ]
  },
  {
   "cell_type": "markdown",
   "metadata": {},
   "source": [
    "## 在Model中使用Metrics\n",
    "\n",
    "[mindspore.Model](https://www.mindspore.cn/docs/api/zh-CN/master/api_python/mindspore/mindspore.Model.html#mindspore.Model)是用于训练和评估的高层API，可以将自定义或MindSpore已有的Metrics作为参数传入，Model能够自动调用传入的Metrics进行评估。如下示例在`Model`中传入上述自定义的Metrics函数，使用验证数据集进行验证并打印验证结果。"
   ]
  },
  {
   "cell_type": "code",
   "execution_count": null,
   "metadata": {},
   "outputs": [],
   "source": [
    "import numpy as np\n",
    "import mindspore.nn as nn\n",
    "import mindspore.ops as ops\n",
    "from mindspore import Model\n",
    "from mindspore import dataset as ds\n",
    "from mindspore.nn import LossBase\n",
    "from mindspore.common.initializer import Normal\n",
    "\n",
    "\n",
    "# 生成数据及对应标签\n",
    "def get_data(num, w=2.0, b=3.0):\n",
    "    for _ in range(num):\n",
    "        x = np.random.uniform(-10.0, 10.0)\n",
    "        noise = np.random.normal(0, 1)\n",
    "        y = x * w + b + noise\n",
    "        yield np.array([x]).astype(np.float32), np.array([y]).astype(np.float32)\n",
    "\n",
    "\n",
    "# 加载数据集\n",
    "def create_dataset(num_data, batch_size=16):\n",
    "    dataset = ds.GeneratorDataset(list(get_data(num_data)), column_names=['data', 'label'])\n",
    "    dataset = dataset.batch(batch_size)\n",
    "    return dataset\n",
    "\n",
    "\n",
    "# 定义线性回归网络\n",
    "class LinearNet(nn.Cell):\n",
    "    def __init__(self):\n",
    "        super(LinearNet, self).__init__()\n",
    "        self.fc = nn.Dense(1, 1, Normal(0.02), Normal(0.02))\n",
    "\n",
    "    def construct(self, x):\n",
    "        return self.fc(x)\n",
    "\n",
    "\n",
    "# 通过继承LossBase来定义损失函数\n",
    "class L1Loss(LossBase):\n",
    "    def __init__(self, reduction=\"mean\"):\n",
    "        \"\"\"初始化，求loss均值\"\"\"\n",
    "        super(L1Loss, self).__init__(reduction)\n",
    "        # 求绝对值\n",
    "        self.abs = ops.Abs()\n",
    "\n",
    "    def construct(self, base, target):\n",
    "        x = self.abs(base - target)\n",
    "        # 返回loss均值\n",
    "        return self.get_loss(x)\n",
    "\n",
    "\n",
    "# 创建数据集\n",
    "ds_train = create_dataset(num_data=160)\n",
    "# 定义网络\n",
    "net = LinearNet()\n",
    "# 定义损失函数\n",
    "loss = L1Loss()\n",
    "# 定义优化器\n",
    "opt = nn.Momentum(net.trainable_params(), learning_rate=0.005, momentum=0.9)\n",
    "# 定义model，将自定义metrics函数MAE传入Model中\n",
    "model = Model(net, loss, opt, metrics={\"MAE\": MAE()})\n",
    "# 模型训练\n",
    "ds_eval = create_dataset(num_data=100)\n",
    "model.train(epoch=1, train_dataset=ds_train, dataset_sink_mode=False)\n",
    "\n",
    "# 创建评估数据集\n",
    "ds_eval = create_dataset(num_data=100)\n",
    "# 模型评估\n",
    "output = model.eval(ds_eval)\n",
    "# 打印结果\n",
    "print(output)"
   ]
  },
  {
   "cell_type": "markdown",
   "metadata": {},
   "source": [
    "```Python\n",
    "{'MAE': 5.212465476989746}\n",
    "```"
   ]
  }
 ],
 "metadata": {
  "kernelspec": {
   "display_name": "MindSpore",
   "language": "python",
   "name": "mindspore"
  },
  "language_info": {
   "codemirror_mode": {
    "name": "ipython",
    "version": 3
   },
   "file_extension": ".py",
   "mimetype": "text/x-python",
   "name": "python",
   "nbconvert_exporter": "python",
   "pygments_lexer": "ipython3",
   "version": "3.9.0"
  }
 },
 "nbformat": 4,
 "nbformat_minor": 4
}
