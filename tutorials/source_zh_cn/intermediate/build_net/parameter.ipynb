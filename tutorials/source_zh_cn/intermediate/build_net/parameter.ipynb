{
 "cells": [
  {
   "cell_type": "markdown",
   "metadata": {},
   "source": [
    "\n",
    "# 网络参数\n",
    "\n",
    "[![下载Notebook](https://gitee.com/mindspore/docs/raw/master/resource/_static/logo_notebook.png)](https://obs.dualstack.cn-north-4.myhuaweicloud.com/mindspore-website/notebook/tutorials-develop/tutorials/zh_cn/mindspore_parameter.ipynb)&emsp;[![下载样例代码](https://gitee.com/mindspore/docs/raw/master/resource/_static/logo_download_code.png)](https://obs.dualstack.cn-north-4.myhuaweicloud.com/mindspore-website/notebook/tutorials-develop/tutorials/zh_cn/mindspore_parameter.py)&emsp;[![查看源文件](https://gitee.com/mindspore/docs/raw/master/resource/_static/logo_source.png)](https://gitee.com/mindspore/docs/blob/tutorials-develop/tutorials/source_zh_cn/intermediate/build_net/parameter.ipynb)"
   ]
  },
  {
   "cell_type": "markdown",
   "metadata": {},
   "source": [
    "## 概述\n",
    "\n",
    "MindSpore提供了网络参数初始化模块，用户可以通过封装算子来调用字符串、Initializer子类或自定义Tensor等方式完成对网络参数进行初始化。本章主要介绍变量张量`Parameter`的、变量张量元组`ParameterTuple`，网络的初始化方法和网络参数更新。\n",
    "\n",
    "## 变量张量（[Parameter](https://www.mindspore.cn/docs/api/zh-CN/master/api_python/mindspore/mindspore.Parameter.html#mindspore.Parameter)）\n",
    "\n",
    "变量张量`Parameter`，表示在训练网络时需要被更新的参数，一般包括权重`weight`和偏置`bias`。\n",
    "\n",
    "### 初始化\n",
    "\n",
    "变量张量`Parameter`的初始化方法有多种。变量张量`default_input`为输入数据，支持传入`Tensor`、`Initializer`、`int`和`float`四种数据类型；`name`为可设置变量张量的名称；`requires_grad`表示在网络训练过程，是否需要计算参数梯度，如果不需要计算参数梯度，将`requires_grad`设置为`False`。\n",
    "\n",
    "+ 根据`int`或`float`型数据直接创建。"
   ]
  },
  {
   "cell_type": "code",
   "execution_count": 91,
   "metadata": {},
   "outputs": [
    {
     "name": "stdout",
     "output_type": "stream",
     "text": [
      "<class 'mindspore.common.parameter.ParameterTensor'>\n",
      "Parameter (name=x, shape=(), dtype=Float32, requires_grad=True) value: 2.0\n",
      "Parameter (name=y, shape=(), dtype=Float32, requires_grad=True) value: 5.0\n",
      "Parameter (name=z, shape=(), dtype=Int32, requires_grad=False) value: 5\n"
     ]
    }
   ],
   "source": [
    "from mindspore import Parameter\n",
    "\n",
    "x = Parameter(default_input=2.0, name='x')\n",
    "y = Parameter(default_input=5.0, name='y')\n",
    "z = Parameter(default_input=5, name='z', requires_grad=False)\n",
    "\n",
    "print(type(x))\n",
    "print(x, \"value:\", x.asnumpy())\n",
    "print(y, \"value:\", y.asnumpy())\n",
    "print(z, \"value:\", z.asnumpy())"
   ]
  },
  {
   "cell_type": "markdown",
   "metadata": {},
   "source": [
    "+ 根据`Tensor`创建。"
   ]
  },
  {
   "cell_type": "code",
   "execution_count": 18,
   "metadata": {},
   "outputs": [
    {
     "name": "stdout",
     "output_type": "stream",
     "text": [
      "Parameter (name=x, shape=(2, 3), dtype=Int64, requires_grad=True)\n"
     ]
    }
   ],
   "source": [
    "import numpy as np\n",
    "from mindspore import Tensor\n",
    "\n",
    "x = Parameter(default_input=Tensor(np.arange(2 * 3).reshape((2, 3))), name=\"x\")\n",
    "print(x)"
   ]
  },
  {
   "cell_type": "markdown",
   "metadata": {},
   "source": [
    "+ 使用`Initializer`创建。"
   ]
  },
  {
   "cell_type": "code",
   "execution_count": 22,
   "metadata": {},
   "outputs": [
    {
     "name": "stdout",
     "output_type": "stream",
     "text": [
      "Parameter (name=x, shape=(1, 2, 3), dtype=Float32, requires_grad=True)\n"
     ]
    }
   ],
   "source": [
    "from mindspore.common.initializer import initializer\n",
    "from mindspore import dtype as mstype\n",
    "\n",
    "x = Parameter(default_input=initializer('ones', [1, 2, 3], mstype.float32), name='x')\n",
    "print(x)"
   ]
  },
  {
   "cell_type": "markdown",
   "metadata": {},
   "source": [
    "### 属性\n",
    "\n",
    "变量张量`Parameter`的默认属性有变量名称`name`、形状`shape`、数据类型`dtype`和是否需要进行求导`requires_grad`。其他属性如下所示：\n",
    "\n",
    "+ `data`： 变量张量`Parameter`本身。\n",
    "\n",
    "+ `sliced`：用在自动并行场景下，表示变量张量`Parameter`里保存的数据是否是分片数据。如果是，就不再对其进行切分，如果不是，需要根据网络并行策略确认是否对其进行切分。\n",
    "\n",
    "+ `layerwise_parallel`：是否支持layerwise并行。如果支持，参数就不会进行广播和梯度聚合，反之则需要。\n",
    "\n",
    "下例通过`Tensor`初始化一个变量张量`Parameter`，并获取变量张量`Parameter`的相关属性。示例如下："
   ]
  },
  {
   "cell_type": "code",
   "execution_count": 141,
   "metadata": {},
   "outputs": [
    {
     "name": "stdout",
     "output_type": "stream",
     "text": [
      "x:  Parameter (name=x, shape=(2, 3), dtype=Int64, requires_grad=True)\n",
      "x.data:  Parameter (name=x, shape=(2, 3), dtype=Int64, requires_grad=True)\n",
      "sliced:  False\n",
      "layerwise_parallel:  False\n"
     ]
    }
   ],
   "source": [
    "x = Parameter(default_input=Tensor(np.arange(2 * 3).reshape((2, 3))), name=\"x\")\n",
    "\n",
    "print(\"x: \", x)\n",
    "print(\"x.data: \", x.data)\n",
    "print(\"sliced: \", x.sliced)\n",
    "print(\"layerwise_parallel: \", x.layerwise_parallel)"
   ]
  },
  {
   "cell_type": "markdown",
   "metadata": {},
   "source": [
    "### 方法\n",
    "\n",
    "+ `clone`：克隆变量张量`Parameter`，克隆完成后可以给新的变量张量`Parameter`指定新的名称。"
   ]
  },
  {
   "cell_type": "code",
   "execution_count": 48,
   "metadata": {},
   "outputs": [
    {
     "name": "stdout",
     "output_type": "stream",
     "text": [
      "Parameter (name=Parameter, shape=(1, 2, 3), dtype=Float32, requires_grad=True)\n",
      "Parameter (name=x_clone, shape=(1, 2, 3), dtype=Float32, requires_grad=True)\n"
     ]
    }
   ],
   "source": [
    "x = Parameter(default_input=initializer('ones', [1, 2, 3], mstype.float32))\n",
    "x_clone = x.clone()\n",
    "x_clone.name = \"x_clone\"\n",
    "\n",
    "print(x)\n",
    "print(x_clone)"
   ]
  },
  {
   "cell_type": "markdown",
   "metadata": {},
   "source": [
    "+ `set_data`：修改变量张量`Parameter`的数据或形状`shape`，支持传入`Tensor`、`Initializer`、`int`和`float`四种数据类型。`set_data`方法有`data`和`slice_shape`两种入参。其中`data`表示变量张量`Parameter`新传入的数据；`slice_shape`表示是否修改变量张量`Parameter`的形状`shape`，默认为False。"
   ]
  },
  {
   "cell_type": "code",
   "execution_count": 136,
   "metadata": {},
   "outputs": [
    {
     "name": "stdout",
     "output_type": "stream",
     "text": [
      "Parameter (name=x, shape=(1, 2), dtype=Float32, requires_grad=True) [[1. 1.]]\n",
      "Parameter (name=x, shape=(1, 2), dtype=Float32, requires_grad=True) [[0. 0.]]\n",
      "Parameter (name=x, shape=(1, 4), dtype=Float32, requires_grad=True) [[1. 1. 1. 1.]]\n"
     ]
    }
   ],
   "source": [
    "x = Parameter(Tensor(np.ones((1, 2)), mindspore.float32), name=\"x\", requires_grad=True)\n",
    "print(x, x.asnumpy())\n",
    "\n",
    "y = x.set_data(Tensor(np.zeros((1, 2)), mindspore.float32))\n",
    "print(y, y.asnumpy())\n",
    "\n",
    "z = x.set_data(Tensor(np.ones((1, 4)), mindspore.float32), slice_shape=True)\n",
    "print(z, z.asnumpy())"
   ]
  },
  {
   "cell_type": "markdown",
   "metadata": {},
   "source": [
    "+ `init_data`：并行场景下存在参数的形状发生变化的情况，用户可以调用`Parameter`的`init_data`方法得到原始数据。"
   ]
  },
  {
   "cell_type": "code",
   "execution_count": 144,
   "metadata": {},
   "outputs": [
    {
     "name": "stdout",
     "output_type": "stream",
     "text": [
      "Parameter (name=x, shape=(1, 2), dtype=Float32, requires_grad=True) [[1. 1.]]\n"
     ]
    }
   ],
   "source": [
    "x = Parameter(Tensor(np.ones((1, 2)), mindspore.float32), name=\"x\", requires_grad=True)\n",
    "print(x.init_data(), x.init_data().asnumpy())"
   ]
  },
  {
   "cell_type": "markdown",
   "metadata": {},
   "source": [
    "## 变量张量元组（[ParameterTuple](https://www.mindspore.cn/docs/api/zh-CN/master/api_python/mindspore/mindspore.ParameterTuple.html#mindspore.ParameterTuple)）\n",
    "\n",
    "变量张量元组`ParameterTuple`用于保存多个`Parameter`，继承于元组`tuple`，提供克隆功能。如下示例提供`ParameterTuple`创建方法："
   ]
  },
  {
   "cell_type": "code",
   "execution_count": 102,
   "metadata": {},
   "outputs": [
    {
     "name": "stdout",
     "output_type": "stream",
     "text": [
      "(Parameter (name=x, shape=(2, 3), dtype=Int64, requires_grad=True), Parameter (name=y, shape=(1, 2, 3), dtype=Float32, requires_grad=True), Parameter (name=z, shape=(), dtype=Float32, requires_grad=True)) \n",
      "\n",
      "(Parameter (name=params_copy.x, shape=(2, 3), dtype=Int64, requires_grad=True), Parameter (name=params_copy.y, shape=(1, 2, 3), dtype=Float32, requires_grad=True), Parameter (name=params_copy.z, shape=(), dtype=Float32, requires_grad=True))\n"
     ]
    }
   ],
   "source": [
    "import numpy as np\n",
    "from mindspore import Tensor, Parameter, ParameterTuple\n",
    "from mindspore import dtype as mstype\n",
    "from mindspore.common.initializer import initializer\n",
    "\n",
    "# 创建\n",
    "x = Parameter(default_input=Tensor(np.arange(2 * 3).reshape((2, 3))), name=\"x\")\n",
    "y = Parameter(default_input=initializer('ones', [1, 2, 3], mstype.float32), name='y')\n",
    "z = Parameter(default_input=2.0, name='z')\n",
    "params = ParameterTuple((x, y, z))\n",
    "\n",
    "# 从params克隆并修改名称为\"params_copy\"\n",
    "params_copy = params.clone(\"params_copy\")\n",
    "print(params, \"\\n\")\n",
    "print(params_copy)"
   ]
  },
  {
   "cell_type": "markdown",
   "metadata": {},
   "source": [
    "## 网络参数初始化\n",
    "\n",
    "MindSpore提供了多种网络参数初始化的方式，并在部分算子中封装了参数初始化的功能。本节以`Conv2d`算子为例，分别介绍使用`Initializer`子类，字符串和自定义`Tensor`等方式对网络中的参数进行初始化。\n",
    "\n",
    "### Initializer子类初始化\n",
    "\n",
    "使用`Initializer`子类对网络参数进行初始化，如要使用`Initializer`子类中的参数，需使用`Initializer`子类的方式对参数进行初始化，示例如下："
   ]
  },
  {
   "cell_type": "code",
   "execution_count": null,
   "metadata": {},
   "outputs": [],
   "source": [
    "import numpy as np\n",
    "import mindspore.nn as nn\n",
    "from mindspore import Tensor\n",
    "from mindspore import set_seed\n",
    "from mindspore.common.initializer import Normal\n",
    "\n",
    "set_seed(1)\n",
    "\n",
    "input_data = Tensor(np.ones([1, 3, 16, 50], dtype=np.float32))\n",
    "net = nn.Conv2d(3, 64, 3, weight_init=Normal(0.2))\n",
    "output = net(input_data)\n",
    "print(output)"
   ]
  },
  {
   "cell_type": "markdown",
   "metadata": {},
   "source": [
    "```text\n",
    "[[[[ 6.2076533e-01  8.7720710e-01  8.7720710e-01 ...  8.7720710e-01\n",
    "     8.7720710e-01  2.7743810e-01]\n",
    "   [ 6.5210247e-01  7.0859784e-01  7.0859784e-01 ...  7.0859784e-01\n",
    "     7.0859784e-01 -1.1080378e-01]\n",
    "   [ 6.5210247e-01  7.0859784e-01  7.0859784e-01 ...  7.0859784e-01\n",
    "     7.0859784e-01 -1.1080378e-01]\n",
    "     ...\n",
    "   [ 1.1884158e+00  5.6527245e-01  5.6527245e-01 ...  5.6527245e-01\n",
    "     5.6527245e-01 -6.5525830e-01]\n",
    "   [ 1.1884158e+00  5.6527245e-01  5.6527245e-01 ...  5.6527245e-01\n",
    "     5.6527245e-01 -6.5525824e-01]\n",
    "   [ 1.6852863e+00  1.0636344e+00  1.0636344e+00 ...  1.0636345e+00\n",
    "     1.0636345e+00 -9.2076123e-02]]]]\n",
    "```"
   ]
  },
  {
   "cell_type": "markdown",
   "metadata": {},
   "source": [
    "### 字符串初始化\n",
    "\n",
    "使用字符串对网络参数进行初始化，字符串的内容需要与`Initializer`子类的名称保持一致(字母不区分大小写)，使用字符串方式进行初始化将使用`Initializer`子类中的默认参数，例如使用字符串`Normal`等同于使用`Initializer`的子类`Normal()`，示例如下：\n"
   ]
  },
  {
   "cell_type": "code",
   "execution_count": null,
   "metadata": {},
   "outputs": [],
   "source": [
    "import numpy as np\n",
    "import mindspore.nn as nn\n",
    "from mindspore import Tensor\n",
    "from mindspore import set_seed\n",
    "\n",
    "set_seed(1)\n",
    "\n",
    "input_data = Tensor(np.ones([1, 3, 16, 50], dtype=np.float32))\n",
    "net = nn.Conv2d(3, 64, 3, weight_init='Normal')\n",
    "output = net(input_data)\n",
    "print(output)"
   ]
  },
  {
   "cell_type": "markdown",
   "metadata": {},
   "source": [
    "```text\n",
    "[[[[ 3.10382620e-02  4.38603461e-02  4.38603461e-02 ...  4.38603461e-02\n",
    "     4.38603461e-02  1.38719045e-02]\n",
    "   [ 3.26051228e-02  3.54298912e-02  3.54298912e-02 ...  3.54298949e-02\n",
    "     3.54298949e-02 -5.54019213e-03]\n",
    "   [ 3.26051228e-02  3.54298912e-02  3.54298912e-02 ...  3.54298912e-02\n",
    "     3.54298912e-02 -5.54019120e-03]\n",
    "   ...\n",
    "   [ 4.38403059e-03 -3.60766202e-02 -3.60766202e-02 ... -3.60766277e-02\n",
    "    -3.60766277e-02 -2.95619294e-02]\n",
    "   [ 4.38403059e-03 -3.60766202e-02 -3.60766202e-02 ... -3.60766202e-02\n",
    "    -3.60766202e-02 -2.95619294e-02]\n",
    "   [ 1.33139016e-02  6.74417242e-05  6.74417242e-05 ...  6.74389303e-05\n",
    "     6.74389303e-05 -2.27325857e-02]]]]\n",
    "```"
   ]
  },
  {
   "cell_type": "markdown",
   "metadata": {},
   "source": [
    "### 自定义的Tensor\n",
    "\n",
    "用户也可以通过自定义`Tensor`的方式来对参数进行初始化，示例如下："
   ]
  },
  {
   "cell_type": "code",
   "execution_count": null,
   "metadata": {},
   "outputs": [],
   "source": [
    "import numpy as np\n",
    "import mindspore.nn as nn\n",
    "from mindspore import Tensor\n",
    "from mindspore import dtype as mstype\n",
    "\n",
    "weight = Tensor(np.ones([64, 3, 3, 3]), dtype=mstype.float32)\n",
    "input_data = Tensor(np.ones([1, 3, 16, 50], dtype=np.float32))\n",
    "net = nn.Conv2d(3, 64, 3, weight_init=weight)\n",
    "output = net(input_data)\n",
    "print(output)"
   ]
  },
  {
   "cell_type": "markdown",
   "metadata": {},
   "source": [
    "```text\n",
    "[[[[12. 18. 18. ... 18. 18. 12.]\n",
    "   [18. 27. 27. ... 27. 27. 18.]\n",
    "   [18. 27. 27. ... 27. 27. 18.]\n",
    "   ...\n",
    "   [18. 27. 27. ... 27. 27. 18.]\n",
    "   [18. 27. 27. ... 27. 27. 18.]\n",
    "   [12. 18. 18. ... 18. 18. 12.]]]]\n",
    "```"
   ]
  },
  {
   "cell_type": "markdown",
   "metadata": {},
   "source": [
    "## 网络参数更新\n",
    "\n",
    "MindSpore提供了网络参数更新功能，使用`nn.ParameterUpdate`可对网络参数进行更新，其输入的参数类型必须为张量，且张量`shape`需要与原网络参数`shape`保持一致。更新网络的权重参数示例如下："
   ]
  },
  {
   "cell_type": "code",
   "execution_count": 129,
   "metadata": {},
   "outputs": [
    {
     "name": "stdout",
     "output_type": "stream",
     "text": [
      "param:\n",
      " [[-0.0077879  -0.01631169 -0.00774882]\n",
      " [ 0.00361533 -0.01483704  0.00744422]\n",
      " [ 0.00665934 -0.01925852 -0.02213076]\n",
      " [-0.00279421  0.01458707  0.00358556]]\n",
      "param update:\n",
      " [[ 0.  1.  2.]\n",
      " [ 3.  4.  5.]\n",
      " [ 6.  7.  8.]\n",
      " [ 9. 10. 11.]]\n"
     ]
    }
   ],
   "source": [
    "import numpy as np\n",
    "from mindspore import dtype as mstype\n",
    "from mindspore import nn, Tensor\n",
    "\n",
    "# 构建网络\n",
    "network = nn.Dense(3, 4)\n",
    "# 获取网络的权重参数\n",
    "param = network.parameters_dict()['weight']\n",
    "print(\"param:\\n\", param.asnumpy())\n",
    "\n",
    "# 更新权重参数\n",
    "update = nn.ParameterUpdate(param)\n",
    "weight = Tensor(np.arange(12).reshape((4, 3)), mstype.float32)\n",
    "output = update(weight)\n",
    "print(\"param update:\\n\", output)"
   ]
  }
 ],
 "metadata": {
  "kernelspec": {
   "display_name": "Python 3 (ipykernel)",
   "language": "python",
   "name": "python3"
  },
  "language_info": {
   "codemirror_mode": {
    "name": "ipython",
    "version": 3
   },
   "file_extension": ".py",
   "mimetype": "text/x-python",
   "name": "python",
   "nbconvert_exporter": "python",
   "pygments_lexer": "ipython3",
   "version": "3.9.0"
  }
 },
 "nbformat": 4,
 "nbformat_minor": 4
}
